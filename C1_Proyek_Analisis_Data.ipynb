{
  "cells": [
    {
      "cell_type": "markdown",
      "metadata": {
        "id": "H9wADwK78DCz"
      },
      "source": [
        "# Proyek Analisis Data: [Input Nama Dataset]\n",
        "- **Nama:** Haidar Zakki Jumali\n",
        "- **Email:** m258d4ky1421@bangkit.academy\n",
        "- **ID Dicoding:** hazarddrips"
      ]
    },
    {
      "cell_type": "markdown",
      "metadata": {
        "id": "eE0raob58DC0"
      },
      "source": [
        "## Menentukan Pertanyaan Bisnis"
      ]
    },
    {
      "cell_type": "markdown",
      "metadata": {},
      "source": []
    },
    {
      "cell_type": "markdown",
      "metadata": {
        "id": "GmQeQ5YF8DC0"
      },
      "source": [
        "- Pertanyaan 1\n",
        "    <p>Berapa jumlah total sepeda yang disewa pada tahun 2011 pada musim dingin (season : 4) ?\n",
        "- Pertanyaan 2\n",
        "    <p>Berapa banyak sepeda yang disewa yang digunakan pada hari kerja (workingday) selama musim panas (musim : 2) pada tahun 2012?\n",
        "- Pertanyaan 3\n",
        "    <p>Berapa banyak sepeda yang dipinjam pada cuaca heavy Light Rain + Scattered clouds (weathersit : 3)?\n",
        "- Pertanyaan 4\n",
        "    <p>Apa pengaruh cuaca weathersit dengan jumlah pengguna yang terdaftar (regsitered)?\n",
        "- Pertanyaan 5\n",
        "    <p>Bagaimana strategi untuk meningkatkan sewa sepeda dengan user beralih dari user casual menjadi user registered untuk hari libur?\n",
        "     "
      ]
    },
    {
      "cell_type": "markdown",
      "metadata": {
        "id": "H-z4QGlO8DC1"
      },
      "source": [
        "## Import Semua Packages/Library yang Digunakan"
      ]
    },
    {
      "cell_type": "code",
      "execution_count": 1,
      "metadata": {
        "id": "FVYwaObI8DC1"
      },
      "outputs": [],
      "source": [
        "import pandas as pd\n",
        "import plotly.express as plotex"
      ]
    },
    {
      "cell_type": "markdown",
      "metadata": {
        "id": "h_Sh51Xy8DC1"
      },
      "source": [
        "## Data Wrangling"
      ]
    },
    {
      "cell_type": "markdown",
      "metadata": {
        "id": "sXU2GBYu8DC1"
      },
      "source": [
        "### Gathering Data"
      ]
    },
    {
      "cell_type": "code",
      "execution_count": 2,
      "metadata": {
        "id": "zjCBk1BI8DC1"
      },
      "outputs": [],
      "source": [
        "dfDay = pd.read_csv(\"Dataset/Bike-sharing-dataset/day.csv\")\n",
        "dfHour  = pd.read_csv(\"Dataset/Bike-sharing-dataset/hour.csv\")\n"
      ]
    },
    {
      "cell_type": "code",
      "execution_count": 3,
      "metadata": {},
      "outputs": [
        {
          "data": {
            "text/html": [
              "<div>\n",
              "<style scoped>\n",
              "    .dataframe tbody tr th:only-of-type {\n",
              "        vertical-align: middle;\n",
              "    }\n",
              "\n",
              "    .dataframe tbody tr th {\n",
              "        vertical-align: top;\n",
              "    }\n",
              "\n",
              "    .dataframe thead th {\n",
              "        text-align: right;\n",
              "    }\n",
              "</style>\n",
              "<table border=\"1\" class=\"dataframe\">\n",
              "  <thead>\n",
              "    <tr style=\"text-align: right;\">\n",
              "      <th></th>\n",
              "      <th>instant</th>\n",
              "      <th>dteday</th>\n",
              "      <th>season</th>\n",
              "      <th>yr</th>\n",
              "      <th>mnth</th>\n",
              "      <th>holiday</th>\n",
              "      <th>weekday</th>\n",
              "      <th>workingday</th>\n",
              "      <th>weathersit</th>\n",
              "      <th>temp</th>\n",
              "      <th>atemp</th>\n",
              "      <th>hum</th>\n",
              "      <th>windspeed</th>\n",
              "      <th>casual</th>\n",
              "      <th>registered</th>\n",
              "      <th>cnt</th>\n",
              "    </tr>\n",
              "  </thead>\n",
              "  <tbody>\n",
              "    <tr>\n",
              "      <th>0</th>\n",
              "      <td>1</td>\n",
              "      <td>2011-01-01</td>\n",
              "      <td>1</td>\n",
              "      <td>0</td>\n",
              "      <td>1</td>\n",
              "      <td>0</td>\n",
              "      <td>6</td>\n",
              "      <td>0</td>\n",
              "      <td>2</td>\n",
              "      <td>0.344167</td>\n",
              "      <td>0.363625</td>\n",
              "      <td>0.805833</td>\n",
              "      <td>0.160446</td>\n",
              "      <td>331</td>\n",
              "      <td>654</td>\n",
              "      <td>985</td>\n",
              "    </tr>\n",
              "    <tr>\n",
              "      <th>1</th>\n",
              "      <td>2</td>\n",
              "      <td>2011-01-02</td>\n",
              "      <td>1</td>\n",
              "      <td>0</td>\n",
              "      <td>1</td>\n",
              "      <td>0</td>\n",
              "      <td>0</td>\n",
              "      <td>0</td>\n",
              "      <td>2</td>\n",
              "      <td>0.363478</td>\n",
              "      <td>0.353739</td>\n",
              "      <td>0.696087</td>\n",
              "      <td>0.248539</td>\n",
              "      <td>131</td>\n",
              "      <td>670</td>\n",
              "      <td>801</td>\n",
              "    </tr>\n",
              "    <tr>\n",
              "      <th>2</th>\n",
              "      <td>3</td>\n",
              "      <td>2011-01-03</td>\n",
              "      <td>1</td>\n",
              "      <td>0</td>\n",
              "      <td>1</td>\n",
              "      <td>0</td>\n",
              "      <td>1</td>\n",
              "      <td>1</td>\n",
              "      <td>1</td>\n",
              "      <td>0.196364</td>\n",
              "      <td>0.189405</td>\n",
              "      <td>0.437273</td>\n",
              "      <td>0.248309</td>\n",
              "      <td>120</td>\n",
              "      <td>1229</td>\n",
              "      <td>1349</td>\n",
              "    </tr>\n",
              "    <tr>\n",
              "      <th>3</th>\n",
              "      <td>4</td>\n",
              "      <td>2011-01-04</td>\n",
              "      <td>1</td>\n",
              "      <td>0</td>\n",
              "      <td>1</td>\n",
              "      <td>0</td>\n",
              "      <td>2</td>\n",
              "      <td>1</td>\n",
              "      <td>1</td>\n",
              "      <td>0.200000</td>\n",
              "      <td>0.212122</td>\n",
              "      <td>0.590435</td>\n",
              "      <td>0.160296</td>\n",
              "      <td>108</td>\n",
              "      <td>1454</td>\n",
              "      <td>1562</td>\n",
              "    </tr>\n",
              "    <tr>\n",
              "      <th>4</th>\n",
              "      <td>5</td>\n",
              "      <td>2011-01-05</td>\n",
              "      <td>1</td>\n",
              "      <td>0</td>\n",
              "      <td>1</td>\n",
              "      <td>0</td>\n",
              "      <td>3</td>\n",
              "      <td>1</td>\n",
              "      <td>1</td>\n",
              "      <td>0.226957</td>\n",
              "      <td>0.229270</td>\n",
              "      <td>0.436957</td>\n",
              "      <td>0.186900</td>\n",
              "      <td>82</td>\n",
              "      <td>1518</td>\n",
              "      <td>1600</td>\n",
              "    </tr>\n",
              "    <tr>\n",
              "      <th>...</th>\n",
              "      <td>...</td>\n",
              "      <td>...</td>\n",
              "      <td>...</td>\n",
              "      <td>...</td>\n",
              "      <td>...</td>\n",
              "      <td>...</td>\n",
              "      <td>...</td>\n",
              "      <td>...</td>\n",
              "      <td>...</td>\n",
              "      <td>...</td>\n",
              "      <td>...</td>\n",
              "      <td>...</td>\n",
              "      <td>...</td>\n",
              "      <td>...</td>\n",
              "      <td>...</td>\n",
              "      <td>...</td>\n",
              "    </tr>\n",
              "    <tr>\n",
              "      <th>95</th>\n",
              "      <td>96</td>\n",
              "      <td>2011-04-06</td>\n",
              "      <td>2</td>\n",
              "      <td>0</td>\n",
              "      <td>4</td>\n",
              "      <td>0</td>\n",
              "      <td>3</td>\n",
              "      <td>1</td>\n",
              "      <td>1</td>\n",
              "      <td>0.390833</td>\n",
              "      <td>0.387608</td>\n",
              "      <td>0.470833</td>\n",
              "      <td>0.263063</td>\n",
              "      <td>413</td>\n",
              "      <td>2395</td>\n",
              "      <td>2808</td>\n",
              "    </tr>\n",
              "    <tr>\n",
              "      <th>96</th>\n",
              "      <td>97</td>\n",
              "      <td>2011-04-07</td>\n",
              "      <td>2</td>\n",
              "      <td>0</td>\n",
              "      <td>4</td>\n",
              "      <td>0</td>\n",
              "      <td>4</td>\n",
              "      <td>1</td>\n",
              "      <td>1</td>\n",
              "      <td>0.437500</td>\n",
              "      <td>0.433696</td>\n",
              "      <td>0.602917</td>\n",
              "      <td>0.162312</td>\n",
              "      <td>571</td>\n",
              "      <td>2570</td>\n",
              "      <td>3141</td>\n",
              "    </tr>\n",
              "    <tr>\n",
              "      <th>97</th>\n",
              "      <td>98</td>\n",
              "      <td>2011-04-08</td>\n",
              "      <td>2</td>\n",
              "      <td>0</td>\n",
              "      <td>4</td>\n",
              "      <td>0</td>\n",
              "      <td>5</td>\n",
              "      <td>1</td>\n",
              "      <td>2</td>\n",
              "      <td>0.335833</td>\n",
              "      <td>0.324479</td>\n",
              "      <td>0.836250</td>\n",
              "      <td>0.226992</td>\n",
              "      <td>172</td>\n",
              "      <td>1299</td>\n",
              "      <td>1471</td>\n",
              "    </tr>\n",
              "    <tr>\n",
              "      <th>98</th>\n",
              "      <td>99</td>\n",
              "      <td>2011-04-09</td>\n",
              "      <td>2</td>\n",
              "      <td>0</td>\n",
              "      <td>4</td>\n",
              "      <td>0</td>\n",
              "      <td>6</td>\n",
              "      <td>0</td>\n",
              "      <td>2</td>\n",
              "      <td>0.342500</td>\n",
              "      <td>0.341529</td>\n",
              "      <td>0.877500</td>\n",
              "      <td>0.133083</td>\n",
              "      <td>879</td>\n",
              "      <td>1576</td>\n",
              "      <td>2455</td>\n",
              "    </tr>\n",
              "    <tr>\n",
              "      <th>99</th>\n",
              "      <td>100</td>\n",
              "      <td>2011-04-10</td>\n",
              "      <td>2</td>\n",
              "      <td>0</td>\n",
              "      <td>4</td>\n",
              "      <td>0</td>\n",
              "      <td>0</td>\n",
              "      <td>0</td>\n",
              "      <td>2</td>\n",
              "      <td>0.426667</td>\n",
              "      <td>0.426737</td>\n",
              "      <td>0.857500</td>\n",
              "      <td>0.146767</td>\n",
              "      <td>1188</td>\n",
              "      <td>1707</td>\n",
              "      <td>2895</td>\n",
              "    </tr>\n",
              "  </tbody>\n",
              "</table>\n",
              "<p>100 rows × 16 columns</p>\n",
              "</div>"
            ],
            "text/plain": [
              "    instant      dteday  season  yr  mnth  holiday  weekday  workingday  \\\n",
              "0         1  2011-01-01       1   0     1        0        6           0   \n",
              "1         2  2011-01-02       1   0     1        0        0           0   \n",
              "2         3  2011-01-03       1   0     1        0        1           1   \n",
              "3         4  2011-01-04       1   0     1        0        2           1   \n",
              "4         5  2011-01-05       1   0     1        0        3           1   \n",
              "..      ...         ...     ...  ..   ...      ...      ...         ...   \n",
              "95       96  2011-04-06       2   0     4        0        3           1   \n",
              "96       97  2011-04-07       2   0     4        0        4           1   \n",
              "97       98  2011-04-08       2   0     4        0        5           1   \n",
              "98       99  2011-04-09       2   0     4        0        6           0   \n",
              "99      100  2011-04-10       2   0     4        0        0           0   \n",
              "\n",
              "    weathersit      temp     atemp       hum  windspeed  casual  registered  \\\n",
              "0            2  0.344167  0.363625  0.805833   0.160446     331         654   \n",
              "1            2  0.363478  0.353739  0.696087   0.248539     131         670   \n",
              "2            1  0.196364  0.189405  0.437273   0.248309     120        1229   \n",
              "3            1  0.200000  0.212122  0.590435   0.160296     108        1454   \n",
              "4            1  0.226957  0.229270  0.436957   0.186900      82        1518   \n",
              "..         ...       ...       ...       ...        ...     ...         ...   \n",
              "95           1  0.390833  0.387608  0.470833   0.263063     413        2395   \n",
              "96           1  0.437500  0.433696  0.602917   0.162312     571        2570   \n",
              "97           2  0.335833  0.324479  0.836250   0.226992     172        1299   \n",
              "98           2  0.342500  0.341529  0.877500   0.133083     879        1576   \n",
              "99           2  0.426667  0.426737  0.857500   0.146767    1188        1707   \n",
              "\n",
              "     cnt  \n",
              "0    985  \n",
              "1    801  \n",
              "2   1349  \n",
              "3   1562  \n",
              "4   1600  \n",
              "..   ...  \n",
              "95  2808  \n",
              "96  3141  \n",
              "97  1471  \n",
              "98  2455  \n",
              "99  2895  \n",
              "\n",
              "[100 rows x 16 columns]"
            ]
          },
          "execution_count": 3,
          "metadata": {},
          "output_type": "execute_result"
        }
      ],
      "source": [
        "dfDay.head(100)\n"
      ]
    },
    {
      "cell_type": "code",
      "execution_count": 4,
      "metadata": {},
      "outputs": [
        {
          "data": {
            "text/html": [
              "<div>\n",
              "<style scoped>\n",
              "    .dataframe tbody tr th:only-of-type {\n",
              "        vertical-align: middle;\n",
              "    }\n",
              "\n",
              "    .dataframe tbody tr th {\n",
              "        vertical-align: top;\n",
              "    }\n",
              "\n",
              "    .dataframe thead th {\n",
              "        text-align: right;\n",
              "    }\n",
              "</style>\n",
              "<table border=\"1\" class=\"dataframe\">\n",
              "  <thead>\n",
              "    <tr style=\"text-align: right;\">\n",
              "      <th></th>\n",
              "      <th>instant</th>\n",
              "      <th>dteday</th>\n",
              "      <th>season</th>\n",
              "      <th>yr</th>\n",
              "      <th>mnth</th>\n",
              "      <th>hr</th>\n",
              "      <th>holiday</th>\n",
              "      <th>weekday</th>\n",
              "      <th>workingday</th>\n",
              "      <th>weathersit</th>\n",
              "      <th>temp</th>\n",
              "      <th>atemp</th>\n",
              "      <th>hum</th>\n",
              "      <th>windspeed</th>\n",
              "      <th>casual</th>\n",
              "      <th>registered</th>\n",
              "      <th>cnt</th>\n",
              "    </tr>\n",
              "  </thead>\n",
              "  <tbody>\n",
              "    <tr>\n",
              "      <th>0</th>\n",
              "      <td>1</td>\n",
              "      <td>2011-01-01</td>\n",
              "      <td>1</td>\n",
              "      <td>0</td>\n",
              "      <td>1</td>\n",
              "      <td>0</td>\n",
              "      <td>0</td>\n",
              "      <td>6</td>\n",
              "      <td>0</td>\n",
              "      <td>1</td>\n",
              "      <td>0.24</td>\n",
              "      <td>0.2879</td>\n",
              "      <td>0.81</td>\n",
              "      <td>0.0000</td>\n",
              "      <td>3</td>\n",
              "      <td>13</td>\n",
              "      <td>16</td>\n",
              "    </tr>\n",
              "    <tr>\n",
              "      <th>1</th>\n",
              "      <td>2</td>\n",
              "      <td>2011-01-01</td>\n",
              "      <td>1</td>\n",
              "      <td>0</td>\n",
              "      <td>1</td>\n",
              "      <td>1</td>\n",
              "      <td>0</td>\n",
              "      <td>6</td>\n",
              "      <td>0</td>\n",
              "      <td>1</td>\n",
              "      <td>0.22</td>\n",
              "      <td>0.2727</td>\n",
              "      <td>0.80</td>\n",
              "      <td>0.0000</td>\n",
              "      <td>8</td>\n",
              "      <td>32</td>\n",
              "      <td>40</td>\n",
              "    </tr>\n",
              "    <tr>\n",
              "      <th>2</th>\n",
              "      <td>3</td>\n",
              "      <td>2011-01-01</td>\n",
              "      <td>1</td>\n",
              "      <td>0</td>\n",
              "      <td>1</td>\n",
              "      <td>2</td>\n",
              "      <td>0</td>\n",
              "      <td>6</td>\n",
              "      <td>0</td>\n",
              "      <td>1</td>\n",
              "      <td>0.22</td>\n",
              "      <td>0.2727</td>\n",
              "      <td>0.80</td>\n",
              "      <td>0.0000</td>\n",
              "      <td>5</td>\n",
              "      <td>27</td>\n",
              "      <td>32</td>\n",
              "    </tr>\n",
              "    <tr>\n",
              "      <th>3</th>\n",
              "      <td>4</td>\n",
              "      <td>2011-01-01</td>\n",
              "      <td>1</td>\n",
              "      <td>0</td>\n",
              "      <td>1</td>\n",
              "      <td>3</td>\n",
              "      <td>0</td>\n",
              "      <td>6</td>\n",
              "      <td>0</td>\n",
              "      <td>1</td>\n",
              "      <td>0.24</td>\n",
              "      <td>0.2879</td>\n",
              "      <td>0.75</td>\n",
              "      <td>0.0000</td>\n",
              "      <td>3</td>\n",
              "      <td>10</td>\n",
              "      <td>13</td>\n",
              "    </tr>\n",
              "    <tr>\n",
              "      <th>4</th>\n",
              "      <td>5</td>\n",
              "      <td>2011-01-01</td>\n",
              "      <td>1</td>\n",
              "      <td>0</td>\n",
              "      <td>1</td>\n",
              "      <td>4</td>\n",
              "      <td>0</td>\n",
              "      <td>6</td>\n",
              "      <td>0</td>\n",
              "      <td>1</td>\n",
              "      <td>0.24</td>\n",
              "      <td>0.2879</td>\n",
              "      <td>0.75</td>\n",
              "      <td>0.0000</td>\n",
              "      <td>0</td>\n",
              "      <td>1</td>\n",
              "      <td>1</td>\n",
              "    </tr>\n",
              "    <tr>\n",
              "      <th>5</th>\n",
              "      <td>6</td>\n",
              "      <td>2011-01-01</td>\n",
              "      <td>1</td>\n",
              "      <td>0</td>\n",
              "      <td>1</td>\n",
              "      <td>5</td>\n",
              "      <td>0</td>\n",
              "      <td>6</td>\n",
              "      <td>0</td>\n",
              "      <td>2</td>\n",
              "      <td>0.24</td>\n",
              "      <td>0.2576</td>\n",
              "      <td>0.75</td>\n",
              "      <td>0.0896</td>\n",
              "      <td>0</td>\n",
              "      <td>1</td>\n",
              "      <td>1</td>\n",
              "    </tr>\n",
              "    <tr>\n",
              "      <th>6</th>\n",
              "      <td>7</td>\n",
              "      <td>2011-01-01</td>\n",
              "      <td>1</td>\n",
              "      <td>0</td>\n",
              "      <td>1</td>\n",
              "      <td>6</td>\n",
              "      <td>0</td>\n",
              "      <td>6</td>\n",
              "      <td>0</td>\n",
              "      <td>1</td>\n",
              "      <td>0.22</td>\n",
              "      <td>0.2727</td>\n",
              "      <td>0.80</td>\n",
              "      <td>0.0000</td>\n",
              "      <td>2</td>\n",
              "      <td>0</td>\n",
              "      <td>2</td>\n",
              "    </tr>\n",
              "    <tr>\n",
              "      <th>7</th>\n",
              "      <td>8</td>\n",
              "      <td>2011-01-01</td>\n",
              "      <td>1</td>\n",
              "      <td>0</td>\n",
              "      <td>1</td>\n",
              "      <td>7</td>\n",
              "      <td>0</td>\n",
              "      <td>6</td>\n",
              "      <td>0</td>\n",
              "      <td>1</td>\n",
              "      <td>0.20</td>\n",
              "      <td>0.2576</td>\n",
              "      <td>0.86</td>\n",
              "      <td>0.0000</td>\n",
              "      <td>1</td>\n",
              "      <td>2</td>\n",
              "      <td>3</td>\n",
              "    </tr>\n",
              "    <tr>\n",
              "      <th>8</th>\n",
              "      <td>9</td>\n",
              "      <td>2011-01-01</td>\n",
              "      <td>1</td>\n",
              "      <td>0</td>\n",
              "      <td>1</td>\n",
              "      <td>8</td>\n",
              "      <td>0</td>\n",
              "      <td>6</td>\n",
              "      <td>0</td>\n",
              "      <td>1</td>\n",
              "      <td>0.24</td>\n",
              "      <td>0.2879</td>\n",
              "      <td>0.75</td>\n",
              "      <td>0.0000</td>\n",
              "      <td>1</td>\n",
              "      <td>7</td>\n",
              "      <td>8</td>\n",
              "    </tr>\n",
              "    <tr>\n",
              "      <th>9</th>\n",
              "      <td>10</td>\n",
              "      <td>2011-01-01</td>\n",
              "      <td>1</td>\n",
              "      <td>0</td>\n",
              "      <td>1</td>\n",
              "      <td>9</td>\n",
              "      <td>0</td>\n",
              "      <td>6</td>\n",
              "      <td>0</td>\n",
              "      <td>1</td>\n",
              "      <td>0.32</td>\n",
              "      <td>0.3485</td>\n",
              "      <td>0.76</td>\n",
              "      <td>0.0000</td>\n",
              "      <td>8</td>\n",
              "      <td>6</td>\n",
              "      <td>14</td>\n",
              "    </tr>\n",
              "  </tbody>\n",
              "</table>\n",
              "</div>"
            ],
            "text/plain": [
              "   instant      dteday  season  yr  mnth  hr  holiday  weekday  workingday  \\\n",
              "0        1  2011-01-01       1   0     1   0        0        6           0   \n",
              "1        2  2011-01-01       1   0     1   1        0        6           0   \n",
              "2        3  2011-01-01       1   0     1   2        0        6           0   \n",
              "3        4  2011-01-01       1   0     1   3        0        6           0   \n",
              "4        5  2011-01-01       1   0     1   4        0        6           0   \n",
              "5        6  2011-01-01       1   0     1   5        0        6           0   \n",
              "6        7  2011-01-01       1   0     1   6        0        6           0   \n",
              "7        8  2011-01-01       1   0     1   7        0        6           0   \n",
              "8        9  2011-01-01       1   0     1   8        0        6           0   \n",
              "9       10  2011-01-01       1   0     1   9        0        6           0   \n",
              "\n",
              "   weathersit  temp   atemp   hum  windspeed  casual  registered  cnt  \n",
              "0           1  0.24  0.2879  0.81     0.0000       3          13   16  \n",
              "1           1  0.22  0.2727  0.80     0.0000       8          32   40  \n",
              "2           1  0.22  0.2727  0.80     0.0000       5          27   32  \n",
              "3           1  0.24  0.2879  0.75     0.0000       3          10   13  \n",
              "4           1  0.24  0.2879  0.75     0.0000       0           1    1  \n",
              "5           2  0.24  0.2576  0.75     0.0896       0           1    1  \n",
              "6           1  0.22  0.2727  0.80     0.0000       2           0    2  \n",
              "7           1  0.20  0.2576  0.86     0.0000       1           2    3  \n",
              "8           1  0.24  0.2879  0.75     0.0000       1           7    8  \n",
              "9           1  0.32  0.3485  0.76     0.0000       8           6   14  "
            ]
          },
          "execution_count": 4,
          "metadata": {},
          "output_type": "execute_result"
        }
      ],
      "source": [
        "dfHour.head(10)"
      ]
    },
    {
      "cell_type": "markdown",
      "metadata": {
        "id": "FHSiqaZp8DC1"
      },
      "source": [
        "### Assessing Data"
      ]
    },
    {
      "cell_type": "markdown",
      "metadata": {},
      "source": [
        "#### *Data Type*"
      ]
    },
    {
      "cell_type": "code",
      "execution_count": 5,
      "metadata": {
        "id": "ax-3tEjc9Cj1"
      },
      "outputs": [
        {
          "name": "stdout",
          "output_type": "stream",
          "text": [
            "Data Information Day : \n",
            "<class 'pandas.core.frame.DataFrame'>\n",
            "RangeIndex: 731 entries, 0 to 730\n",
            "Data columns (total 16 columns):\n",
            " #   Column      Non-Null Count  Dtype  \n",
            "---  ------      --------------  -----  \n",
            " 0   instant     731 non-null    int64  \n",
            " 1   dteday      731 non-null    object \n",
            " 2   season      731 non-null    int64  \n",
            " 3   yr          731 non-null    int64  \n",
            " 4   mnth        731 non-null    int64  \n",
            " 5   holiday     731 non-null    int64  \n",
            " 6   weekday     731 non-null    int64  \n",
            " 7   workingday  731 non-null    int64  \n",
            " 8   weathersit  731 non-null    int64  \n",
            " 9   temp        731 non-null    float64\n",
            " 10  atemp       731 non-null    float64\n",
            " 11  hum         731 non-null    float64\n",
            " 12  windspeed   731 non-null    float64\n",
            " 13  casual      731 non-null    int64  \n",
            " 14  registered  731 non-null    int64  \n",
            " 15  cnt         731 non-null    int64  \n",
            "dtypes: float64(4), int64(11), object(1)\n",
            "memory usage: 91.5+ KB\n",
            "None\n",
            "Data Information Hour : \n",
            "<class 'pandas.core.frame.DataFrame'>\n",
            "RangeIndex: 17379 entries, 0 to 17378\n",
            "Data columns (total 17 columns):\n",
            " #   Column      Non-Null Count  Dtype  \n",
            "---  ------      --------------  -----  \n",
            " 0   instant     17379 non-null  int64  \n",
            " 1   dteday      17379 non-null  object \n",
            " 2   season      17379 non-null  int64  \n",
            " 3   yr          17379 non-null  int64  \n",
            " 4   mnth        17379 non-null  int64  \n",
            " 5   hr          17379 non-null  int64  \n",
            " 6   holiday     17379 non-null  int64  \n",
            " 7   weekday     17379 non-null  int64  \n",
            " 8   workingday  17379 non-null  int64  \n",
            " 9   weathersit  17379 non-null  int64  \n",
            " 10  temp        17379 non-null  float64\n",
            " 11  atemp       17379 non-null  float64\n",
            " 12  hum         17379 non-null  float64\n",
            " 13  windspeed   17379 non-null  float64\n",
            " 14  casual      17379 non-null  int64  \n",
            " 15  registered  17379 non-null  int64  \n",
            " 16  cnt         17379 non-null  int64  \n",
            "dtypes: float64(4), int64(12), object(1)\n",
            "memory usage: 2.3+ MB\n",
            "None\n"
          ]
        }
      ],
      "source": [
        "print(\"Data Information Day : \")\n",
        "print(dfDay.info())\n",
        "print(\"Data Information Hour : \")\n",
        "print(dfHour.info())"
      ]
    },
    {
      "cell_type": "markdown",
      "metadata": {},
      "source": [
        "#### *Missing Value*      "
      ]
    },
    {
      "cell_type": "code",
      "execution_count": 6,
      "metadata": {},
      "outputs": [
        {
          "name": "stdout",
          "output_type": "stream",
          "text": [
            "Missing Value Day :\n",
            "instant       0\n",
            "dteday        0\n",
            "season        0\n",
            "yr            0\n",
            "mnth          0\n",
            "holiday       0\n",
            "weekday       0\n",
            "workingday    0\n",
            "weathersit    0\n",
            "temp          0\n",
            "atemp         0\n",
            "hum           0\n",
            "windspeed     0\n",
            "casual        0\n",
            "registered    0\n",
            "cnt           0\n",
            "dtype: int64\n",
            "Missing Value Hour\n",
            "instant       0\n",
            "dteday        0\n",
            "season        0\n",
            "yr            0\n",
            "mnth          0\n",
            "hr            0\n",
            "holiday       0\n",
            "weekday       0\n",
            "workingday    0\n",
            "weathersit    0\n",
            "temp          0\n",
            "atemp         0\n",
            "hum           0\n",
            "windspeed     0\n",
            "casual        0\n",
            "registered    0\n",
            "cnt           0\n",
            "dtype: int64\n"
          ]
        }
      ],
      "source": [
        "print(\"Missing Value Day :\")\n",
        "print(dfDay.isna().sum())\n",
        "print(\"Missing Value Hour\")\n",
        "print(dfHour.isna().sum())"
      ]
    },
    {
      "cell_type": "markdown",
      "metadata": {},
      "source": [
        "#### *Data Duplicates*"
      ]
    },
    {
      "cell_type": "code",
      "execution_count": 7,
      "metadata": {
        "id": "jVnYpprE9Evz"
      },
      "outputs": [
        {
          "name": "stdout",
          "output_type": "stream",
          "text": [
            "Jumlah Duplikasi Day: \n",
            "0\n",
            "Jumlah Duplikasi Hour: \n",
            "0\n"
          ]
        }
      ],
      "source": [
        "print(\"Jumlah Duplikasi Day: \")\n",
        "print(dfDay.duplicated().sum())\n",
        "print(\"Jumlah Duplikasi Hour: \")\n",
        "print(dfHour.duplicated().sum())"
      ]
    },
    {
      "cell_type": "markdown",
      "metadata": {},
      "source": [
        "#### *Descriptive Statistics*"
      ]
    },
    {
      "cell_type": "code",
      "execution_count": 8,
      "metadata": {},
      "outputs": [
        {
          "data": {
            "text/html": [
              "<div>\n",
              "<style scoped>\n",
              "    .dataframe tbody tr th:only-of-type {\n",
              "        vertical-align: middle;\n",
              "    }\n",
              "\n",
              "    .dataframe tbody tr th {\n",
              "        vertical-align: top;\n",
              "    }\n",
              "\n",
              "    .dataframe thead th {\n",
              "        text-align: right;\n",
              "    }\n",
              "</style>\n",
              "<table border=\"1\" class=\"dataframe\">\n",
              "  <thead>\n",
              "    <tr style=\"text-align: right;\">\n",
              "      <th></th>\n",
              "      <th>instant</th>\n",
              "      <th>season</th>\n",
              "      <th>yr</th>\n",
              "      <th>mnth</th>\n",
              "      <th>holiday</th>\n",
              "      <th>weekday</th>\n",
              "      <th>workingday</th>\n",
              "      <th>weathersit</th>\n",
              "      <th>temp</th>\n",
              "      <th>atemp</th>\n",
              "      <th>hum</th>\n",
              "      <th>windspeed</th>\n",
              "      <th>casual</th>\n",
              "      <th>registered</th>\n",
              "      <th>cnt</th>\n",
              "    </tr>\n",
              "  </thead>\n",
              "  <tbody>\n",
              "    <tr>\n",
              "      <th>count</th>\n",
              "      <td>731.000000</td>\n",
              "      <td>731.000000</td>\n",
              "      <td>731.000000</td>\n",
              "      <td>731.000000</td>\n",
              "      <td>731.000000</td>\n",
              "      <td>731.000000</td>\n",
              "      <td>731.000000</td>\n",
              "      <td>731.000000</td>\n",
              "      <td>731.000000</td>\n",
              "      <td>731.000000</td>\n",
              "      <td>731.000000</td>\n",
              "      <td>731.000000</td>\n",
              "      <td>731.000000</td>\n",
              "      <td>731.000000</td>\n",
              "      <td>731.000000</td>\n",
              "    </tr>\n",
              "    <tr>\n",
              "      <th>mean</th>\n",
              "      <td>366.000000</td>\n",
              "      <td>2.496580</td>\n",
              "      <td>0.500684</td>\n",
              "      <td>6.519836</td>\n",
              "      <td>0.028728</td>\n",
              "      <td>2.997264</td>\n",
              "      <td>0.683995</td>\n",
              "      <td>1.395349</td>\n",
              "      <td>0.495385</td>\n",
              "      <td>0.474354</td>\n",
              "      <td>0.627894</td>\n",
              "      <td>0.190486</td>\n",
              "      <td>848.176471</td>\n",
              "      <td>3656.172367</td>\n",
              "      <td>4504.348837</td>\n",
              "    </tr>\n",
              "    <tr>\n",
              "      <th>std</th>\n",
              "      <td>211.165812</td>\n",
              "      <td>1.110807</td>\n",
              "      <td>0.500342</td>\n",
              "      <td>3.451913</td>\n",
              "      <td>0.167155</td>\n",
              "      <td>2.004787</td>\n",
              "      <td>0.465233</td>\n",
              "      <td>0.544894</td>\n",
              "      <td>0.183051</td>\n",
              "      <td>0.162961</td>\n",
              "      <td>0.142429</td>\n",
              "      <td>0.077498</td>\n",
              "      <td>686.622488</td>\n",
              "      <td>1560.256377</td>\n",
              "      <td>1937.211452</td>\n",
              "    </tr>\n",
              "    <tr>\n",
              "      <th>min</th>\n",
              "      <td>1.000000</td>\n",
              "      <td>1.000000</td>\n",
              "      <td>0.000000</td>\n",
              "      <td>1.000000</td>\n",
              "      <td>0.000000</td>\n",
              "      <td>0.000000</td>\n",
              "      <td>0.000000</td>\n",
              "      <td>1.000000</td>\n",
              "      <td>0.059130</td>\n",
              "      <td>0.079070</td>\n",
              "      <td>0.000000</td>\n",
              "      <td>0.022392</td>\n",
              "      <td>2.000000</td>\n",
              "      <td>20.000000</td>\n",
              "      <td>22.000000</td>\n",
              "    </tr>\n",
              "    <tr>\n",
              "      <th>25%</th>\n",
              "      <td>183.500000</td>\n",
              "      <td>2.000000</td>\n",
              "      <td>0.000000</td>\n",
              "      <td>4.000000</td>\n",
              "      <td>0.000000</td>\n",
              "      <td>1.000000</td>\n",
              "      <td>0.000000</td>\n",
              "      <td>1.000000</td>\n",
              "      <td>0.337083</td>\n",
              "      <td>0.337842</td>\n",
              "      <td>0.520000</td>\n",
              "      <td>0.134950</td>\n",
              "      <td>315.500000</td>\n",
              "      <td>2497.000000</td>\n",
              "      <td>3152.000000</td>\n",
              "    </tr>\n",
              "    <tr>\n",
              "      <th>50%</th>\n",
              "      <td>366.000000</td>\n",
              "      <td>3.000000</td>\n",
              "      <td>1.000000</td>\n",
              "      <td>7.000000</td>\n",
              "      <td>0.000000</td>\n",
              "      <td>3.000000</td>\n",
              "      <td>1.000000</td>\n",
              "      <td>1.000000</td>\n",
              "      <td>0.498333</td>\n",
              "      <td>0.486733</td>\n",
              "      <td>0.626667</td>\n",
              "      <td>0.180975</td>\n",
              "      <td>713.000000</td>\n",
              "      <td>3662.000000</td>\n",
              "      <td>4548.000000</td>\n",
              "    </tr>\n",
              "    <tr>\n",
              "      <th>75%</th>\n",
              "      <td>548.500000</td>\n",
              "      <td>3.000000</td>\n",
              "      <td>1.000000</td>\n",
              "      <td>10.000000</td>\n",
              "      <td>0.000000</td>\n",
              "      <td>5.000000</td>\n",
              "      <td>1.000000</td>\n",
              "      <td>2.000000</td>\n",
              "      <td>0.655417</td>\n",
              "      <td>0.608602</td>\n",
              "      <td>0.730209</td>\n",
              "      <td>0.233214</td>\n",
              "      <td>1096.000000</td>\n",
              "      <td>4776.500000</td>\n",
              "      <td>5956.000000</td>\n",
              "    </tr>\n",
              "    <tr>\n",
              "      <th>max</th>\n",
              "      <td>731.000000</td>\n",
              "      <td>4.000000</td>\n",
              "      <td>1.000000</td>\n",
              "      <td>12.000000</td>\n",
              "      <td>1.000000</td>\n",
              "      <td>6.000000</td>\n",
              "      <td>1.000000</td>\n",
              "      <td>3.000000</td>\n",
              "      <td>0.861667</td>\n",
              "      <td>0.840896</td>\n",
              "      <td>0.972500</td>\n",
              "      <td>0.507463</td>\n",
              "      <td>3410.000000</td>\n",
              "      <td>6946.000000</td>\n",
              "      <td>8714.000000</td>\n",
              "    </tr>\n",
              "  </tbody>\n",
              "</table>\n",
              "</div>"
            ],
            "text/plain": [
              "          instant      season          yr        mnth     holiday     weekday  \\\n",
              "count  731.000000  731.000000  731.000000  731.000000  731.000000  731.000000   \n",
              "mean   366.000000    2.496580    0.500684    6.519836    0.028728    2.997264   \n",
              "std    211.165812    1.110807    0.500342    3.451913    0.167155    2.004787   \n",
              "min      1.000000    1.000000    0.000000    1.000000    0.000000    0.000000   \n",
              "25%    183.500000    2.000000    0.000000    4.000000    0.000000    1.000000   \n",
              "50%    366.000000    3.000000    1.000000    7.000000    0.000000    3.000000   \n",
              "75%    548.500000    3.000000    1.000000   10.000000    0.000000    5.000000   \n",
              "max    731.000000    4.000000    1.000000   12.000000    1.000000    6.000000   \n",
              "\n",
              "       workingday  weathersit        temp       atemp         hum   windspeed  \\\n",
              "count  731.000000  731.000000  731.000000  731.000000  731.000000  731.000000   \n",
              "mean     0.683995    1.395349    0.495385    0.474354    0.627894    0.190486   \n",
              "std      0.465233    0.544894    0.183051    0.162961    0.142429    0.077498   \n",
              "min      0.000000    1.000000    0.059130    0.079070    0.000000    0.022392   \n",
              "25%      0.000000    1.000000    0.337083    0.337842    0.520000    0.134950   \n",
              "50%      1.000000    1.000000    0.498333    0.486733    0.626667    0.180975   \n",
              "75%      1.000000    2.000000    0.655417    0.608602    0.730209    0.233214   \n",
              "max      1.000000    3.000000    0.861667    0.840896    0.972500    0.507463   \n",
              "\n",
              "            casual   registered          cnt  \n",
              "count   731.000000   731.000000   731.000000  \n",
              "mean    848.176471  3656.172367  4504.348837  \n",
              "std     686.622488  1560.256377  1937.211452  \n",
              "min       2.000000    20.000000    22.000000  \n",
              "25%     315.500000  2497.000000  3152.000000  \n",
              "50%     713.000000  3662.000000  4548.000000  \n",
              "75%    1096.000000  4776.500000  5956.000000  \n",
              "max    3410.000000  6946.000000  8714.000000  "
            ]
          },
          "execution_count": 8,
          "metadata": {},
          "output_type": "execute_result"
        }
      ],
      "source": [
        "dfDay.describe()"
      ]
    },
    {
      "cell_type": "code",
      "execution_count": 9,
      "metadata": {},
      "outputs": [
        {
          "data": {
            "text/html": [
              "<div>\n",
              "<style scoped>\n",
              "    .dataframe tbody tr th:only-of-type {\n",
              "        vertical-align: middle;\n",
              "    }\n",
              "\n",
              "    .dataframe tbody tr th {\n",
              "        vertical-align: top;\n",
              "    }\n",
              "\n",
              "    .dataframe thead th {\n",
              "        text-align: right;\n",
              "    }\n",
              "</style>\n",
              "<table border=\"1\" class=\"dataframe\">\n",
              "  <thead>\n",
              "    <tr style=\"text-align: right;\">\n",
              "      <th></th>\n",
              "      <th>instant</th>\n",
              "      <th>season</th>\n",
              "      <th>yr</th>\n",
              "      <th>mnth</th>\n",
              "      <th>hr</th>\n",
              "      <th>holiday</th>\n",
              "      <th>weekday</th>\n",
              "      <th>workingday</th>\n",
              "      <th>weathersit</th>\n",
              "      <th>temp</th>\n",
              "      <th>atemp</th>\n",
              "      <th>hum</th>\n",
              "      <th>windspeed</th>\n",
              "      <th>casual</th>\n",
              "      <th>registered</th>\n",
              "      <th>cnt</th>\n",
              "    </tr>\n",
              "  </thead>\n",
              "  <tbody>\n",
              "    <tr>\n",
              "      <th>count</th>\n",
              "      <td>17379.0000</td>\n",
              "      <td>17379.000000</td>\n",
              "      <td>17379.000000</td>\n",
              "      <td>17379.000000</td>\n",
              "      <td>17379.000000</td>\n",
              "      <td>17379.000000</td>\n",
              "      <td>17379.000000</td>\n",
              "      <td>17379.000000</td>\n",
              "      <td>17379.000000</td>\n",
              "      <td>17379.000000</td>\n",
              "      <td>17379.000000</td>\n",
              "      <td>17379.000000</td>\n",
              "      <td>17379.000000</td>\n",
              "      <td>17379.000000</td>\n",
              "      <td>17379.000000</td>\n",
              "      <td>17379.000000</td>\n",
              "    </tr>\n",
              "    <tr>\n",
              "      <th>mean</th>\n",
              "      <td>8690.0000</td>\n",
              "      <td>2.501640</td>\n",
              "      <td>0.502561</td>\n",
              "      <td>6.537775</td>\n",
              "      <td>11.546752</td>\n",
              "      <td>0.028770</td>\n",
              "      <td>3.003683</td>\n",
              "      <td>0.682721</td>\n",
              "      <td>1.425283</td>\n",
              "      <td>0.496987</td>\n",
              "      <td>0.475775</td>\n",
              "      <td>0.627229</td>\n",
              "      <td>0.190098</td>\n",
              "      <td>35.676218</td>\n",
              "      <td>153.786869</td>\n",
              "      <td>189.463088</td>\n",
              "    </tr>\n",
              "    <tr>\n",
              "      <th>std</th>\n",
              "      <td>5017.0295</td>\n",
              "      <td>1.106918</td>\n",
              "      <td>0.500008</td>\n",
              "      <td>3.438776</td>\n",
              "      <td>6.914405</td>\n",
              "      <td>0.167165</td>\n",
              "      <td>2.005771</td>\n",
              "      <td>0.465431</td>\n",
              "      <td>0.639357</td>\n",
              "      <td>0.192556</td>\n",
              "      <td>0.171850</td>\n",
              "      <td>0.192930</td>\n",
              "      <td>0.122340</td>\n",
              "      <td>49.305030</td>\n",
              "      <td>151.357286</td>\n",
              "      <td>181.387599</td>\n",
              "    </tr>\n",
              "    <tr>\n",
              "      <th>min</th>\n",
              "      <td>1.0000</td>\n",
              "      <td>1.000000</td>\n",
              "      <td>0.000000</td>\n",
              "      <td>1.000000</td>\n",
              "      <td>0.000000</td>\n",
              "      <td>0.000000</td>\n",
              "      <td>0.000000</td>\n",
              "      <td>0.000000</td>\n",
              "      <td>1.000000</td>\n",
              "      <td>0.020000</td>\n",
              "      <td>0.000000</td>\n",
              "      <td>0.000000</td>\n",
              "      <td>0.000000</td>\n",
              "      <td>0.000000</td>\n",
              "      <td>0.000000</td>\n",
              "      <td>1.000000</td>\n",
              "    </tr>\n",
              "    <tr>\n",
              "      <th>25%</th>\n",
              "      <td>4345.5000</td>\n",
              "      <td>2.000000</td>\n",
              "      <td>0.000000</td>\n",
              "      <td>4.000000</td>\n",
              "      <td>6.000000</td>\n",
              "      <td>0.000000</td>\n",
              "      <td>1.000000</td>\n",
              "      <td>0.000000</td>\n",
              "      <td>1.000000</td>\n",
              "      <td>0.340000</td>\n",
              "      <td>0.333300</td>\n",
              "      <td>0.480000</td>\n",
              "      <td>0.104500</td>\n",
              "      <td>4.000000</td>\n",
              "      <td>34.000000</td>\n",
              "      <td>40.000000</td>\n",
              "    </tr>\n",
              "    <tr>\n",
              "      <th>50%</th>\n",
              "      <td>8690.0000</td>\n",
              "      <td>3.000000</td>\n",
              "      <td>1.000000</td>\n",
              "      <td>7.000000</td>\n",
              "      <td>12.000000</td>\n",
              "      <td>0.000000</td>\n",
              "      <td>3.000000</td>\n",
              "      <td>1.000000</td>\n",
              "      <td>1.000000</td>\n",
              "      <td>0.500000</td>\n",
              "      <td>0.484800</td>\n",
              "      <td>0.630000</td>\n",
              "      <td>0.194000</td>\n",
              "      <td>17.000000</td>\n",
              "      <td>115.000000</td>\n",
              "      <td>142.000000</td>\n",
              "    </tr>\n",
              "    <tr>\n",
              "      <th>75%</th>\n",
              "      <td>13034.5000</td>\n",
              "      <td>3.000000</td>\n",
              "      <td>1.000000</td>\n",
              "      <td>10.000000</td>\n",
              "      <td>18.000000</td>\n",
              "      <td>0.000000</td>\n",
              "      <td>5.000000</td>\n",
              "      <td>1.000000</td>\n",
              "      <td>2.000000</td>\n",
              "      <td>0.660000</td>\n",
              "      <td>0.621200</td>\n",
              "      <td>0.780000</td>\n",
              "      <td>0.253700</td>\n",
              "      <td>48.000000</td>\n",
              "      <td>220.000000</td>\n",
              "      <td>281.000000</td>\n",
              "    </tr>\n",
              "    <tr>\n",
              "      <th>max</th>\n",
              "      <td>17379.0000</td>\n",
              "      <td>4.000000</td>\n",
              "      <td>1.000000</td>\n",
              "      <td>12.000000</td>\n",
              "      <td>23.000000</td>\n",
              "      <td>1.000000</td>\n",
              "      <td>6.000000</td>\n",
              "      <td>1.000000</td>\n",
              "      <td>4.000000</td>\n",
              "      <td>1.000000</td>\n",
              "      <td>1.000000</td>\n",
              "      <td>1.000000</td>\n",
              "      <td>0.850700</td>\n",
              "      <td>367.000000</td>\n",
              "      <td>886.000000</td>\n",
              "      <td>977.000000</td>\n",
              "    </tr>\n",
              "  </tbody>\n",
              "</table>\n",
              "</div>"
            ],
            "text/plain": [
              "          instant        season            yr          mnth            hr  \\\n",
              "count  17379.0000  17379.000000  17379.000000  17379.000000  17379.000000   \n",
              "mean    8690.0000      2.501640      0.502561      6.537775     11.546752   \n",
              "std     5017.0295      1.106918      0.500008      3.438776      6.914405   \n",
              "min        1.0000      1.000000      0.000000      1.000000      0.000000   \n",
              "25%     4345.5000      2.000000      0.000000      4.000000      6.000000   \n",
              "50%     8690.0000      3.000000      1.000000      7.000000     12.000000   \n",
              "75%    13034.5000      3.000000      1.000000     10.000000     18.000000   \n",
              "max    17379.0000      4.000000      1.000000     12.000000     23.000000   \n",
              "\n",
              "            holiday       weekday    workingday    weathersit          temp  \\\n",
              "count  17379.000000  17379.000000  17379.000000  17379.000000  17379.000000   \n",
              "mean       0.028770      3.003683      0.682721      1.425283      0.496987   \n",
              "std        0.167165      2.005771      0.465431      0.639357      0.192556   \n",
              "min        0.000000      0.000000      0.000000      1.000000      0.020000   \n",
              "25%        0.000000      1.000000      0.000000      1.000000      0.340000   \n",
              "50%        0.000000      3.000000      1.000000      1.000000      0.500000   \n",
              "75%        0.000000      5.000000      1.000000      2.000000      0.660000   \n",
              "max        1.000000      6.000000      1.000000      4.000000      1.000000   \n",
              "\n",
              "              atemp           hum     windspeed        casual    registered  \\\n",
              "count  17379.000000  17379.000000  17379.000000  17379.000000  17379.000000   \n",
              "mean       0.475775      0.627229      0.190098     35.676218    153.786869   \n",
              "std        0.171850      0.192930      0.122340     49.305030    151.357286   \n",
              "min        0.000000      0.000000      0.000000      0.000000      0.000000   \n",
              "25%        0.333300      0.480000      0.104500      4.000000     34.000000   \n",
              "50%        0.484800      0.630000      0.194000     17.000000    115.000000   \n",
              "75%        0.621200      0.780000      0.253700     48.000000    220.000000   \n",
              "max        1.000000      1.000000      0.850700    367.000000    886.000000   \n",
              "\n",
              "                cnt  \n",
              "count  17379.000000  \n",
              "mean     189.463088  \n",
              "std      181.387599  \n",
              "min        1.000000  \n",
              "25%       40.000000  \n",
              "50%      142.000000  \n",
              "75%      281.000000  \n",
              "max      977.000000  "
            ]
          },
          "execution_count": 9,
          "metadata": {},
          "output_type": "execute_result"
        }
      ],
      "source": [
        "dfHour.describe()"
      ]
    },
    {
      "cell_type": "markdown",
      "metadata": {
        "id": "EhN5R4hr8DC1"
      },
      "source": [
        "### Cleaning Data"
      ]
    },
    {
      "cell_type": "code",
      "execution_count": 10,
      "metadata": {},
      "outputs": [],
      "source": [
        "dfDay[\"dteday\"] = pd.to_datetime(dfDay[\"dteday\"])\n",
        "dfHour[\"dteday\"] = pd.to_datetime(dfHour[\"dteday\"])"
      ]
    },
    {
      "cell_type": "code",
      "execution_count": 11,
      "metadata": {},
      "outputs": [
        {
          "name": "stdout",
          "output_type": "stream",
          "text": [
            "instant                int64\n",
            "dteday        datetime64[ns]\n",
            "season                 int64\n",
            "yr                     int64\n",
            "mnth                   int64\n",
            "holiday                int64\n",
            "weekday                int64\n",
            "workingday             int64\n",
            "weathersit             int64\n",
            "temp                 float64\n",
            "atemp                float64\n",
            "hum                  float64\n",
            "windspeed            float64\n",
            "casual                 int64\n",
            "registered             int64\n",
            "cnt                    int64\n",
            "dtype: object\n",
            "instant                int64\n",
            "dteday        datetime64[ns]\n",
            "season                 int64\n",
            "yr                     int64\n",
            "mnth                   int64\n",
            "hr                     int64\n",
            "holiday                int64\n",
            "weekday                int64\n",
            "workingday             int64\n",
            "weathersit             int64\n",
            "temp                 float64\n",
            "atemp                float64\n",
            "hum                  float64\n",
            "windspeed            float64\n",
            "casual                 int64\n",
            "registered             int64\n",
            "cnt                    int64\n",
            "dtype: object\n"
          ]
        }
      ],
      "source": [
        "print(dfDay.dtypes)\n",
        "print(dfHour.dtypes)"
      ]
    },
    {
      "cell_type": "markdown",
      "metadata": {
        "id": "gp-Y6wU38DC1"
      },
      "source": [
        "## Exploratory Data Analysis (EDA)"
      ]
    },
    {
      "cell_type": "markdown",
      "metadata": {
        "id": "MW7WF2kr8DC1"
      },
      "source": [
        "### Explore ..."
      ]
    },
    {
      "cell_type": "markdown",
      "metadata": {},
      "source": [
        "#### Numerical Corelation"
      ]
    },
    {
      "cell_type": "code",
      "execution_count": 12,
      "metadata": {},
      "outputs": [
        {
          "data": {
            "text/html": [
              "<div>\n",
              "<style scoped>\n",
              "    .dataframe tbody tr th:only-of-type {\n",
              "        vertical-align: middle;\n",
              "    }\n",
              "\n",
              "    .dataframe tbody tr th {\n",
              "        vertical-align: top;\n",
              "    }\n",
              "\n",
              "    .dataframe thead th {\n",
              "        text-align: right;\n",
              "    }\n",
              "</style>\n",
              "<table border=\"1\" class=\"dataframe\">\n",
              "  <thead>\n",
              "    <tr style=\"text-align: right;\">\n",
              "      <th></th>\n",
              "      <th>instant</th>\n",
              "      <th>dteday</th>\n",
              "      <th>season</th>\n",
              "      <th>yr</th>\n",
              "      <th>mnth</th>\n",
              "      <th>hr</th>\n",
              "      <th>holiday</th>\n",
              "      <th>weekday</th>\n",
              "      <th>workingday</th>\n",
              "      <th>weathersit</th>\n",
              "      <th>temp</th>\n",
              "      <th>atemp</th>\n",
              "      <th>hum</th>\n",
              "      <th>windspeed</th>\n",
              "      <th>casual</th>\n",
              "      <th>registered</th>\n",
              "      <th>cnt</th>\n",
              "    </tr>\n",
              "  </thead>\n",
              "  <tbody>\n",
              "    <tr>\n",
              "      <th>instant</th>\n",
              "      <td>1.000000</td>\n",
              "      <td>0.999995</td>\n",
              "      <td>0.404046</td>\n",
              "      <td>0.866014</td>\n",
              "      <td>0.489164</td>\n",
              "      <td>-0.004775</td>\n",
              "      <td>0.014723</td>\n",
              "      <td>0.001357</td>\n",
              "      <td>-0.003416</td>\n",
              "      <td>-0.014198</td>\n",
              "      <td>0.136178</td>\n",
              "      <td>0.137615</td>\n",
              "      <td>0.009577</td>\n",
              "      <td>-0.074505</td>\n",
              "      <td>0.158295</td>\n",
              "      <td>0.282046</td>\n",
              "      <td>0.278379</td>\n",
              "    </tr>\n",
              "    <tr>\n",
              "      <th>dteday</th>\n",
              "      <td>0.999995</td>\n",
              "      <td>1.000000</td>\n",
              "      <td>0.404452</td>\n",
              "      <td>0.865648</td>\n",
              "      <td>0.489808</td>\n",
              "      <td>-0.006161</td>\n",
              "      <td>0.014737</td>\n",
              "      <td>0.001372</td>\n",
              "      <td>-0.003366</td>\n",
              "      <td>-0.014063</td>\n",
              "      <td>0.136074</td>\n",
              "      <td>0.137543</td>\n",
              "      <td>0.010196</td>\n",
              "      <td>-0.074645</td>\n",
              "      <td>0.157821</td>\n",
              "      <td>0.281450</td>\n",
              "      <td>0.277753</td>\n",
              "    </tr>\n",
              "    <tr>\n",
              "      <th>season</th>\n",
              "      <td>0.404046</td>\n",
              "      <td>0.404452</td>\n",
              "      <td>1.000000</td>\n",
              "      <td>-0.010742</td>\n",
              "      <td>0.830386</td>\n",
              "      <td>-0.006117</td>\n",
              "      <td>-0.009585</td>\n",
              "      <td>-0.002335</td>\n",
              "      <td>0.013743</td>\n",
              "      <td>-0.014524</td>\n",
              "      <td>0.312025</td>\n",
              "      <td>0.319380</td>\n",
              "      <td>0.150625</td>\n",
              "      <td>-0.149773</td>\n",
              "      <td>0.120206</td>\n",
              "      <td>0.174226</td>\n",
              "      <td>0.178056</td>\n",
              "    </tr>\n",
              "    <tr>\n",
              "      <th>yr</th>\n",
              "      <td>0.866014</td>\n",
              "      <td>0.865648</td>\n",
              "      <td>-0.010742</td>\n",
              "      <td>1.000000</td>\n",
              "      <td>-0.010473</td>\n",
              "      <td>-0.003867</td>\n",
              "      <td>0.006692</td>\n",
              "      <td>-0.004485</td>\n",
              "      <td>-0.002196</td>\n",
              "      <td>-0.019157</td>\n",
              "      <td>0.040913</td>\n",
              "      <td>0.039222</td>\n",
              "      <td>-0.083546</td>\n",
              "      <td>-0.008740</td>\n",
              "      <td>0.142779</td>\n",
              "      <td>0.253684</td>\n",
              "      <td>0.250495</td>\n",
              "    </tr>\n",
              "    <tr>\n",
              "      <th>mnth</th>\n",
              "      <td>0.489164</td>\n",
              "      <td>0.489808</td>\n",
              "      <td>0.830386</td>\n",
              "      <td>-0.010473</td>\n",
              "      <td>1.000000</td>\n",
              "      <td>-0.005772</td>\n",
              "      <td>0.018430</td>\n",
              "      <td>0.010400</td>\n",
              "      <td>-0.003477</td>\n",
              "      <td>0.005400</td>\n",
              "      <td>0.201691</td>\n",
              "      <td>0.208096</td>\n",
              "      <td>0.164411</td>\n",
              "      <td>-0.135386</td>\n",
              "      <td>0.068457</td>\n",
              "      <td>0.122273</td>\n",
              "      <td>0.120638</td>\n",
              "    </tr>\n",
              "    <tr>\n",
              "      <th>hr</th>\n",
              "      <td>-0.004775</td>\n",
              "      <td>-0.006161</td>\n",
              "      <td>-0.006117</td>\n",
              "      <td>-0.003867</td>\n",
              "      <td>-0.005772</td>\n",
              "      <td>1.000000</td>\n",
              "      <td>0.000479</td>\n",
              "      <td>-0.003498</td>\n",
              "      <td>0.002285</td>\n",
              "      <td>-0.020203</td>\n",
              "      <td>0.137603</td>\n",
              "      <td>0.133750</td>\n",
              "      <td>-0.276498</td>\n",
              "      <td>0.137252</td>\n",
              "      <td>0.301202</td>\n",
              "      <td>0.374141</td>\n",
              "      <td>0.394071</td>\n",
              "    </tr>\n",
              "    <tr>\n",
              "      <th>holiday</th>\n",
              "      <td>0.014723</td>\n",
              "      <td>0.014737</td>\n",
              "      <td>-0.009585</td>\n",
              "      <td>0.006692</td>\n",
              "      <td>0.018430</td>\n",
              "      <td>0.000479</td>\n",
              "      <td>1.000000</td>\n",
              "      <td>-0.102088</td>\n",
              "      <td>-0.252471</td>\n",
              "      <td>-0.017036</td>\n",
              "      <td>-0.027340</td>\n",
              "      <td>-0.030973</td>\n",
              "      <td>-0.010588</td>\n",
              "      <td>0.003988</td>\n",
              "      <td>0.031564</td>\n",
              "      <td>-0.047345</td>\n",
              "      <td>-0.030927</td>\n",
              "    </tr>\n",
              "    <tr>\n",
              "      <th>weekday</th>\n",
              "      <td>0.001357</td>\n",
              "      <td>0.001372</td>\n",
              "      <td>-0.002335</td>\n",
              "      <td>-0.004485</td>\n",
              "      <td>0.010400</td>\n",
              "      <td>-0.003498</td>\n",
              "      <td>-0.102088</td>\n",
              "      <td>1.000000</td>\n",
              "      <td>0.035955</td>\n",
              "      <td>0.003311</td>\n",
              "      <td>-0.001795</td>\n",
              "      <td>-0.008821</td>\n",
              "      <td>-0.037158</td>\n",
              "      <td>0.011502</td>\n",
              "      <td>0.032721</td>\n",
              "      <td>0.021578</td>\n",
              "      <td>0.026900</td>\n",
              "    </tr>\n",
              "    <tr>\n",
              "      <th>workingday</th>\n",
              "      <td>-0.003416</td>\n",
              "      <td>-0.003366</td>\n",
              "      <td>0.013743</td>\n",
              "      <td>-0.002196</td>\n",
              "      <td>-0.003477</td>\n",
              "      <td>0.002285</td>\n",
              "      <td>-0.252471</td>\n",
              "      <td>0.035955</td>\n",
              "      <td>1.000000</td>\n",
              "      <td>0.044672</td>\n",
              "      <td>0.055390</td>\n",
              "      <td>0.054667</td>\n",
              "      <td>0.015688</td>\n",
              "      <td>-0.011830</td>\n",
              "      <td>-0.300942</td>\n",
              "      <td>0.134326</td>\n",
              "      <td>0.030284</td>\n",
              "    </tr>\n",
              "    <tr>\n",
              "      <th>weathersit</th>\n",
              "      <td>-0.014198</td>\n",
              "      <td>-0.014063</td>\n",
              "      <td>-0.014524</td>\n",
              "      <td>-0.019157</td>\n",
              "      <td>0.005400</td>\n",
              "      <td>-0.020203</td>\n",
              "      <td>-0.017036</td>\n",
              "      <td>0.003311</td>\n",
              "      <td>0.044672</td>\n",
              "      <td>1.000000</td>\n",
              "      <td>-0.102640</td>\n",
              "      <td>-0.105563</td>\n",
              "      <td>0.418130</td>\n",
              "      <td>0.026226</td>\n",
              "      <td>-0.152628</td>\n",
              "      <td>-0.120966</td>\n",
              "      <td>-0.142426</td>\n",
              "    </tr>\n",
              "    <tr>\n",
              "      <th>temp</th>\n",
              "      <td>0.136178</td>\n",
              "      <td>0.136074</td>\n",
              "      <td>0.312025</td>\n",
              "      <td>0.040913</td>\n",
              "      <td>0.201691</td>\n",
              "      <td>0.137603</td>\n",
              "      <td>-0.027340</td>\n",
              "      <td>-0.001795</td>\n",
              "      <td>0.055390</td>\n",
              "      <td>-0.102640</td>\n",
              "      <td>1.000000</td>\n",
              "      <td>0.987672</td>\n",
              "      <td>-0.069881</td>\n",
              "      <td>-0.023125</td>\n",
              "      <td>0.459616</td>\n",
              "      <td>0.335361</td>\n",
              "      <td>0.404772</td>\n",
              "    </tr>\n",
              "    <tr>\n",
              "      <th>atemp</th>\n",
              "      <td>0.137615</td>\n",
              "      <td>0.137543</td>\n",
              "      <td>0.319380</td>\n",
              "      <td>0.039222</td>\n",
              "      <td>0.208096</td>\n",
              "      <td>0.133750</td>\n",
              "      <td>-0.030973</td>\n",
              "      <td>-0.008821</td>\n",
              "      <td>0.054667</td>\n",
              "      <td>-0.105563</td>\n",
              "      <td>0.987672</td>\n",
              "      <td>1.000000</td>\n",
              "      <td>-0.051918</td>\n",
              "      <td>-0.062336</td>\n",
              "      <td>0.454080</td>\n",
              "      <td>0.332559</td>\n",
              "      <td>0.400929</td>\n",
              "    </tr>\n",
              "    <tr>\n",
              "      <th>hum</th>\n",
              "      <td>0.009577</td>\n",
              "      <td>0.010196</td>\n",
              "      <td>0.150625</td>\n",
              "      <td>-0.083546</td>\n",
              "      <td>0.164411</td>\n",
              "      <td>-0.276498</td>\n",
              "      <td>-0.010588</td>\n",
              "      <td>-0.037158</td>\n",
              "      <td>0.015688</td>\n",
              "      <td>0.418130</td>\n",
              "      <td>-0.069881</td>\n",
              "      <td>-0.051918</td>\n",
              "      <td>1.000000</td>\n",
              "      <td>-0.290105</td>\n",
              "      <td>-0.347028</td>\n",
              "      <td>-0.273933</td>\n",
              "      <td>-0.322911</td>\n",
              "    </tr>\n",
              "    <tr>\n",
              "      <th>windspeed</th>\n",
              "      <td>-0.074505</td>\n",
              "      <td>-0.074645</td>\n",
              "      <td>-0.149773</td>\n",
              "      <td>-0.008740</td>\n",
              "      <td>-0.135386</td>\n",
              "      <td>0.137252</td>\n",
              "      <td>0.003988</td>\n",
              "      <td>0.011502</td>\n",
              "      <td>-0.011830</td>\n",
              "      <td>0.026226</td>\n",
              "      <td>-0.023125</td>\n",
              "      <td>-0.062336</td>\n",
              "      <td>-0.290105</td>\n",
              "      <td>1.000000</td>\n",
              "      <td>0.090287</td>\n",
              "      <td>0.082321</td>\n",
              "      <td>0.093234</td>\n",
              "    </tr>\n",
              "    <tr>\n",
              "      <th>casual</th>\n",
              "      <td>0.158295</td>\n",
              "      <td>0.157821</td>\n",
              "      <td>0.120206</td>\n",
              "      <td>0.142779</td>\n",
              "      <td>0.068457</td>\n",
              "      <td>0.301202</td>\n",
              "      <td>0.031564</td>\n",
              "      <td>0.032721</td>\n",
              "      <td>-0.300942</td>\n",
              "      <td>-0.152628</td>\n",
              "      <td>0.459616</td>\n",
              "      <td>0.454080</td>\n",
              "      <td>-0.347028</td>\n",
              "      <td>0.090287</td>\n",
              "      <td>1.000000</td>\n",
              "      <td>0.506618</td>\n",
              "      <td>0.694564</td>\n",
              "    </tr>\n",
              "    <tr>\n",
              "      <th>registered</th>\n",
              "      <td>0.282046</td>\n",
              "      <td>0.281450</td>\n",
              "      <td>0.174226</td>\n",
              "      <td>0.253684</td>\n",
              "      <td>0.122273</td>\n",
              "      <td>0.374141</td>\n",
              "      <td>-0.047345</td>\n",
              "      <td>0.021578</td>\n",
              "      <td>0.134326</td>\n",
              "      <td>-0.120966</td>\n",
              "      <td>0.335361</td>\n",
              "      <td>0.332559</td>\n",
              "      <td>-0.273933</td>\n",
              "      <td>0.082321</td>\n",
              "      <td>0.506618</td>\n",
              "      <td>1.000000</td>\n",
              "      <td>0.972151</td>\n",
              "    </tr>\n",
              "    <tr>\n",
              "      <th>cnt</th>\n",
              "      <td>0.278379</td>\n",
              "      <td>0.277753</td>\n",
              "      <td>0.178056</td>\n",
              "      <td>0.250495</td>\n",
              "      <td>0.120638</td>\n",
              "      <td>0.394071</td>\n",
              "      <td>-0.030927</td>\n",
              "      <td>0.026900</td>\n",
              "      <td>0.030284</td>\n",
              "      <td>-0.142426</td>\n",
              "      <td>0.404772</td>\n",
              "      <td>0.400929</td>\n",
              "      <td>-0.322911</td>\n",
              "      <td>0.093234</td>\n",
              "      <td>0.694564</td>\n",
              "      <td>0.972151</td>\n",
              "      <td>1.000000</td>\n",
              "    </tr>\n",
              "  </tbody>\n",
              "</table>\n",
              "</div>"
            ],
            "text/plain": [
              "             instant    dteday    season        yr      mnth        hr  \\\n",
              "instant     1.000000  0.999995  0.404046  0.866014  0.489164 -0.004775   \n",
              "dteday      0.999995  1.000000  0.404452  0.865648  0.489808 -0.006161   \n",
              "season      0.404046  0.404452  1.000000 -0.010742  0.830386 -0.006117   \n",
              "yr          0.866014  0.865648 -0.010742  1.000000 -0.010473 -0.003867   \n",
              "mnth        0.489164  0.489808  0.830386 -0.010473  1.000000 -0.005772   \n",
              "hr         -0.004775 -0.006161 -0.006117 -0.003867 -0.005772  1.000000   \n",
              "holiday     0.014723  0.014737 -0.009585  0.006692  0.018430  0.000479   \n",
              "weekday     0.001357  0.001372 -0.002335 -0.004485  0.010400 -0.003498   \n",
              "workingday -0.003416 -0.003366  0.013743 -0.002196 -0.003477  0.002285   \n",
              "weathersit -0.014198 -0.014063 -0.014524 -0.019157  0.005400 -0.020203   \n",
              "temp        0.136178  0.136074  0.312025  0.040913  0.201691  0.137603   \n",
              "atemp       0.137615  0.137543  0.319380  0.039222  0.208096  0.133750   \n",
              "hum         0.009577  0.010196  0.150625 -0.083546  0.164411 -0.276498   \n",
              "windspeed  -0.074505 -0.074645 -0.149773 -0.008740 -0.135386  0.137252   \n",
              "casual      0.158295  0.157821  0.120206  0.142779  0.068457  0.301202   \n",
              "registered  0.282046  0.281450  0.174226  0.253684  0.122273  0.374141   \n",
              "cnt         0.278379  0.277753  0.178056  0.250495  0.120638  0.394071   \n",
              "\n",
              "             holiday   weekday  workingday  weathersit      temp     atemp  \\\n",
              "instant     0.014723  0.001357   -0.003416   -0.014198  0.136178  0.137615   \n",
              "dteday      0.014737  0.001372   -0.003366   -0.014063  0.136074  0.137543   \n",
              "season     -0.009585 -0.002335    0.013743   -0.014524  0.312025  0.319380   \n",
              "yr          0.006692 -0.004485   -0.002196   -0.019157  0.040913  0.039222   \n",
              "mnth        0.018430  0.010400   -0.003477    0.005400  0.201691  0.208096   \n",
              "hr          0.000479 -0.003498    0.002285   -0.020203  0.137603  0.133750   \n",
              "holiday     1.000000 -0.102088   -0.252471   -0.017036 -0.027340 -0.030973   \n",
              "weekday    -0.102088  1.000000    0.035955    0.003311 -0.001795 -0.008821   \n",
              "workingday -0.252471  0.035955    1.000000    0.044672  0.055390  0.054667   \n",
              "weathersit -0.017036  0.003311    0.044672    1.000000 -0.102640 -0.105563   \n",
              "temp       -0.027340 -0.001795    0.055390   -0.102640  1.000000  0.987672   \n",
              "atemp      -0.030973 -0.008821    0.054667   -0.105563  0.987672  1.000000   \n",
              "hum        -0.010588 -0.037158    0.015688    0.418130 -0.069881 -0.051918   \n",
              "windspeed   0.003988  0.011502   -0.011830    0.026226 -0.023125 -0.062336   \n",
              "casual      0.031564  0.032721   -0.300942   -0.152628  0.459616  0.454080   \n",
              "registered -0.047345  0.021578    0.134326   -0.120966  0.335361  0.332559   \n",
              "cnt        -0.030927  0.026900    0.030284   -0.142426  0.404772  0.400929   \n",
              "\n",
              "                 hum  windspeed    casual  registered       cnt  \n",
              "instant     0.009577  -0.074505  0.158295    0.282046  0.278379  \n",
              "dteday      0.010196  -0.074645  0.157821    0.281450  0.277753  \n",
              "season      0.150625  -0.149773  0.120206    0.174226  0.178056  \n",
              "yr         -0.083546  -0.008740  0.142779    0.253684  0.250495  \n",
              "mnth        0.164411  -0.135386  0.068457    0.122273  0.120638  \n",
              "hr         -0.276498   0.137252  0.301202    0.374141  0.394071  \n",
              "holiday    -0.010588   0.003988  0.031564   -0.047345 -0.030927  \n",
              "weekday    -0.037158   0.011502  0.032721    0.021578  0.026900  \n",
              "workingday  0.015688  -0.011830 -0.300942    0.134326  0.030284  \n",
              "weathersit  0.418130   0.026226 -0.152628   -0.120966 -0.142426  \n",
              "temp       -0.069881  -0.023125  0.459616    0.335361  0.404772  \n",
              "atemp      -0.051918  -0.062336  0.454080    0.332559  0.400929  \n",
              "hum         1.000000  -0.290105 -0.347028   -0.273933 -0.322911  \n",
              "windspeed  -0.290105   1.000000  0.090287    0.082321  0.093234  \n",
              "casual     -0.347028   0.090287  1.000000    0.506618  0.694564  \n",
              "registered -0.273933   0.082321  0.506618    1.000000  0.972151  \n",
              "cnt        -0.322911   0.093234  0.694564    0.972151  1.000000  "
            ]
          },
          "execution_count": 12,
          "metadata": {},
          "output_type": "execute_result"
        }
      ],
      "source": [
        "corDisplay = dfHour.corr()\n",
        "corDisplay\n"
      ]
    },
    {
      "cell_type": "markdown",
      "metadata": {},
      "source": [
        "#### Histogram Dataset Hour"
      ]
    },
    {
      "cell_type": "code",
      "execution_count": 13,
      "metadata": {},
      "outputs": [
        {
          "data": {
            "text/plain": [
              "array([[<Axes: title={'center': 'instant'}>,\n",
              "        <Axes: title={'center': 'dteday'}>,\n",
              "        <Axes: title={'center': 'season'}>,\n",
              "        <Axes: title={'center': 'yr'}>],\n",
              "       [<Axes: title={'center': 'mnth'}>, <Axes: title={'center': 'hr'}>,\n",
              "        <Axes: title={'center': 'holiday'}>,\n",
              "        <Axes: title={'center': 'weekday'}>],\n",
              "       [<Axes: title={'center': 'workingday'}>,\n",
              "        <Axes: title={'center': 'weathersit'}>,\n",
              "        <Axes: title={'center': 'temp'}>,\n",
              "        <Axes: title={'center': 'atemp'}>],\n",
              "       [<Axes: title={'center': 'hum'}>,\n",
              "        <Axes: title={'center': 'windspeed'}>,\n",
              "        <Axes: title={'center': 'casual'}>,\n",
              "        <Axes: title={'center': 'registered'}>],\n",
              "       [<Axes: title={'center': 'cnt'}>, <Axes: >, <Axes: >, <Axes: >]],\n",
              "      dtype=object)"
            ]
          },
          "execution_count": 13,
          "metadata": {},
          "output_type": "execute_result"
        },
        {
          "data": {
            "image/png": "[encoded data removed]",
            "text/plain": [
              "<Figure size 640x480 with 20 Axes>"
            ]
          },
          "metadata": {},
          "output_type": "display_data"
        }
      ],
      "source": [
        "histHour = dfHour.hist()\n",
        "histHour"
      ]
    },
    {
      "cell_type": "code",
      "execution_count": 14,
      "metadata": {
        "id": "e9CQCZjk8DC2"
      },
      "outputs": [
        {
          "data": {
            "application/vnd.plotly.v1+json": {
              "config": {
                "plotlyServerURL": "https://plot.ly"
              },
              "data": [
                {
                  "alignmentgroup": "True",
                  "hovertemplate": "holiday=%{x}<br>cnt=%{y}<extra></extra>",
                  "legendgroup": "",
                  "marker": {
                    "color": "#636efa"
                  },
                  "name": "",
                  "notched": false,
                  "offsetgroup": "",
                  "orientation": "v",
                  "showlegend": false,
                  "type": "box",
                  "x": [
                    0,
                    0,
                    0,
                    0,
                    0,
                    0,
                    0,
                    0,
                    0,
                    0,
                    0,
                    0,
                    0,
                    0,
                    0,
                    0,
                    1,
                    0,
                    0,
                    0,
                    0,
                    0,
                    0,
                    0,
                    0,
                    0,
                    0,
                    0,
                    0,
                    0,
                    0,
                    0,
                    0,
                    0,
                    0,
                    0,
                    0,
                    0,
                    0,
                    0,
                    0,
                    0,
                    0,
                    0,
                    0,
                    0,
                    0,
                    0,
                    0,
                    0,
                    0,
                    1,
                    0,
                    0,
                    0,
                    0,
                    0,
                    0,
                    0,
                    0,
                    0,
                    0,
                    0,
                    0,
                    0,
                    0,
                    0,
                    0,
                    0,
                    0,
                    0,
                    0,
                    0,
                    0,
                    0,
                    0,
                    0,
                    0,
                    0,
                    0,
                    0,
                    0,
                    0,
                    0,
                    0,
                    0,
                    0,
                    0,
                    0,
                    0,
                    0,
                    0,
                    0,
                    0,
                    0,
                    0,
                    0,
                    0,
                    0,
                    0,
                    0,
                    0,
                    0,
                    0,
                    1,
                    0,
                    0,
                    0,
                    0,
                    0,
                    0,
                    0,
                    0,
                    0,
                    0,
                    0,
                    0,
                    0,
                    0,
                    0,
                    0,
                    0,
                    0,
                    0,
                    0,
                    0,
                    0,
                    0,
                    0,
                    0,
                    0,
                    0,
                    0,
                    0,
                    0,
                    0,
                    0,
                    0,
                    0,
                    0,
                    0,
                    0,
                    0,
                    0,
                    0,
                    0,
                    0,
                    0,
                    0,
                    1,
                    0,
                    0,
                    0,
                    0,
                    0,
                    0,
                    0,
                    0,
                    0,
                    0,
                    0,
                    0,
                    0,
                    0,
                    0,
                    0,
                    0,
                    0,
                    0,
                    0,
                    0,
                    0,
                    0,
                    0,
                    0,
                    0,
                    0,
                    0,
                    0,
                    0,
                    0,
                    0,
                    0,
                    0,
                    1,
                    0,
                    0,
                    0,
                    0,
                    0,
                    0,
                    0,
                    0,
                    0,
                    0,
                    0,
                    0,
                    0,
                    0,
                    0,
                    0,
                    0,
                    0,
                    0,
                    0,
                    0,
                    0,
                    0,
                    0,
                    0,
                    0,
                    0,
                    0,
                    0,
                    0,
                    0,
                    0,
                    0,
                    0,
                    0,
                    0,
                    0,
                    0,
                    0,
                    0,
                    0,
                    0,
                    0,
                    0,
                    0,
                    0,
                    0,
                    0,
                    0,
                    0,
                    0,
                    0,
                    0,
                    0,
                    0,
                    0,
                    0,
                    0,
                    0,
                    0,
                    0,
                    0,
                    1,
                    0,
                    0,
                    0,
                    0,
                    0,
                    0,
                    0,
                    0,
                    0,
                    0,
                    0,
                    0,
                    0,
                    0,
                    0,
                    0,
                    0,
                    0,
                    0,
                    0,
                    0,
                    0,
                    0,
                    0,
                    0,
                    0,
                    0,
                    0,
                    0,
                    0,
                    0,
                    0,
                    0,
                    0,
                    1,
                    0,
                    0,
                    0,
                    0,
                    0,
                    0,
                    0,
                    0,
                    0,
                    0,
                    0,
                    0,
                    0,
                    0,
                    0,
                    0,
                    0,
                    0,
                    0,
                    0,
                    0,
                    0,
                    0,
                    0,
                    0,
                    0,
                    0,
                    0,
                    0,
                    0,
                    0,
                    1,
                    0,
                    0,
                    0,
                    0,
                    0,
                    0,
                    0,
                    0,
                    0,
                    0,
                    0,
                    0,
                    1,
                    0,
                    0,
                    0,
                    0,
                    0,
                    0,
                    0,
                    0,
                    0,
                    0,
                    0,
                    0,
                    0,
                    0,
                    0,
                    0,
                    0,
                    0,
                    0,
                    0,
                    0,
                    0,
                    0,
                    0,
                    0,
                    0,
                    0,
                    0,
                    0,
                    0,
                    0,
                    1,
                    0,
                    0,
                    0,
                    0,
                    0,
                    0,
                    1,
                    0,
                    0,
                    0,
                    0,
                    0,
                    0,
                    0,
                    0,
                    0,
                    0,
                    0,
                    0,
                    0,
                    1,
                    0,
                    0,
                    0,
                    0,
                    0,
                    0,
                    0,
                    0,
                    0,
                    0,
                    0,
                    0,
                    0,
                    0,
                    0,
                    0,
                    0,
                    0,
                    0,
                    0,
                    0,
                    0,
                    0,
                    0,
                    0,
                    0,
                    0,
                    0,
                    0,
                    0,
                    0,
                    0,
                    0,
                    0,
                    1,
                    0,
                    0,
                    0,
                    0,
                    0,
                    0,
                    0,
                    0,
                    0,
                    0,
                    0,
                    0,
                    0,
                    0,
                    0,
                    0,
                    0,
                    0,
                    0,
                    0,
                    0,
                    0,
                    0,
                    0,
                    0,
                    0,
                    0,
                    0,
                    0,
                    0,
                    0,
                    0,
                    0,
                    0,
                    0,
                    0,
                    0,
                    0,
                    0,
                    0,
                    0,
                    0,
                    0,
                    0,
                    0,
                    0,
                    0,
                    0,
                    0,
                    0,
                    0,
                    0,
                    0,
                    0,
                    0,
                    1,
                    0,
                    0,
                    0,
                    0,
                    0,
                    0,
                    0,
                    0,
                    0,
                    0,
                    0,
                    0,
                    0,
                    0,
                    0,
                    0,
                    0,
                    0,
                    0,
                    0,
                    0,
                    0,
                    0,
                    0,
                    0,
                    0,
                    0,
                    0,
                    0,
                    0,
                    0,
                    0,
                    0,
                    0,
                    0,
                    0,
                    0,
                    0,
                    0,
                    0,
                    0,
                    1,
                    0,
                    0,
                    0,
                    0,
                    0,
                    0,
                    0,
                    0,
                    0,
                    0,
                    0,
                    0,
                    0,
                    0,
                    0,
                    0,
                    0,
                    0,
                    0,
                    0,
                    0,
                    0,
                    0,
                    0,
                    0,
                    0,
                    0,
                    0,
                    0,
                    0,
                    0,
                    0,
                    0,
                    0,
                    0,
                    0,
                    1,
                    0,
                    0,
                    0,
                    0,
                    0,
                    0,
                    0,
                    0,
                    0,
                    0,
                    0,
                    0,
                    0,
                    0,
                    0,
                    0,
                    0,
                    0,
                    0,
                    0,
                    0,
                    0,
                    0,
                    0,
                    0,
                    0,
                    0,
                    0,
                    0,
                    0,
                    0,
                    0,
                    0,
                    0,
                    0,
                    0,
                    0,
                    0,
                    0,
                    0,
                    0,
                    0,
                    0,
                    0,
                    0,
                    0,
                    0,
                    0,
                    0,
                    0,
                    0,
                    0,
                    0,
                    0,
                    0,
                    0,
                    0,
                    0,
                    0,
                    0,
                    1,
                    0,
                    0,
                    0,
                    0,
                    0,
                    0,
                    0,
                    0,
                    0,
                    0,
                    0,
                    0,
                    0,
                    0,
                    0,
                    0,
                    0,
                    0,
                    0,
                    0,
                    0,
                    0,
                    0,
                    0,
                    0,
                    0,
                    0,
                    0,
                    0,
                    0,
                    0,
                    0,
                    0,
                    0,
                    1,
                    0,
                    0,
                    0,
                    0,
                    0,
                    0,
                    0,
                    0,
                    0,
                    0,
                    0,
                    0,
                    0,
                    0,
                    0,
                    0,
                    0,
                    0,
                    0,
                    0,
                    0,
                    0,
                    0,
                    0,
                    0,
                    0,
                    0,
                    0,
                    0,
                    0,
                    0,
                    0,
                    0,
                    0,
                    1,
                    0,
                    0,
                    0,
                    0,
                    0,
                    0,
                    0,
                    0,
                    0,
                    1,
                    0,
                    0,
                    0,
                    0,
                    0,
                    0,
                    0,
                    0,
                    0,
                    0,
                    0,
                    0,
                    0,
                    0,
                    0,
                    0,
                    0,
                    0,
                    0,
                    0,
                    0,
                    0,
                    0,
                    0,
                    0,
                    0,
                    0,
                    0,
                    0,
                    0,
                    0,
                    0,
                    1,
                    0,
                    0,
                    0,
                    0,
                    0,
                    0
                  ],
                  "x0": " ",
                  "xaxis": "x",
                  "y": [
                    985,
                    801,
                    1349,
                    1562,
                    1600,
                    1606,
                    1510,
                    959,
                    822,
                    1321,
                    1263,
                    1162,
                    1406,
                    1421,
                    1248,
                    1204,
                    1000,
                    683,
                    1650,
                    1927,
                    1543,
                    981,
                    986,
                    1416,
                    1985,
                    506,
                    431,
                    1167,
                    1098,
                    1096,
                    1501,
                    1360,
                    1526,
                    1550,
                    1708,
                    1005,
                    1623,
                    1712,
                    1530,
                    1605,
                    1538,
                    1746,
                    1472,
                    1589,
                    1913,
                    1815,
                    2115,
                    2475,
                    2927,
                    1635,
                    1812,
                    1107,
                    1450,
                    1917,
                    1807,
                    1461,
                    1969,
                    2402,
                    1446,
                    1851,
                    2134,
                    1685,
                    1944,
                    2077,
                    605,
                    1872,
                    2133,
                    1891,
                    623,
                    1977,
                    2132,
                    2417,
                    2046,
                    2056,
                    2192,
                    2744,
                    3239,
                    3117,
                    2471,
                    2077,
                    2703,
                    2121,
                    1865,
                    2210,
                    2496,
                    1693,
                    2028,
                    2425,
                    1536,
                    1685,
                    2227,
                    2252,
                    3249,
                    3115,
                    1795,
                    2808,
                    3141,
                    1471,
                    2455,
                    2895,
                    3348,
                    2034,
                    2162,
                    3267,
                    3126,
                    795,
                    3744,
                    3429,
                    3204,
                    3944,
                    4189,
                    1683,
                    4036,
                    4191,
                    4073,
                    4400,
                    3872,
                    4058,
                    4595,
                    5312,
                    3351,
                    4401,
                    4451,
                    2633,
                    4433,
                    4608,
                    4714,
                    4333,
                    4362,
                    4803,
                    4182,
                    4864,
                    4105,
                    3409,
                    4553,
                    3958,
                    4123,
                    3855,
                    4575,
                    4917,
                    5805,
                    4660,
                    4274,
                    4492,
                    4978,
                    4677,
                    4679,
                    4758,
                    4788,
                    4098,
                    3982,
                    3974,
                    4968,
                    5312,
                    5342,
                    4906,
                    4548,
                    4833,
                    4401,
                    3915,
                    4586,
                    4966,
                    4460,
                    5020,
                    4891,
                    5180,
                    3767,
                    4844,
                    5119,
                    4744,
                    4010,
                    4835,
                    4507,
                    4790,
                    4991,
                    5202,
                    5305,
                    4708,
                    4648,
                    5225,
                    5515,
                    5362,
                    5119,
                    4649,
                    6043,
                    4665,
                    4629,
                    4592,
                    4040,
                    5336,
                    4881,
                    4086,
                    4258,
                    4342,
                    5084,
                    5538,
                    5923,
                    5302,
                    4458,
                    4541,
                    4332,
                    3784,
                    3387,
                    3285,
                    3606,
                    3840,
                    4590,
                    4656,
                    4390,
                    3846,
                    4475,
                    4302,
                    4266,
                    4845,
                    3574,
                    4576,
                    4866,
                    4294,
                    3785,
                    4326,
                    4602,
                    4780,
                    4792,
                    4905,
                    4150,
                    3820,
                    4338,
                    4725,
                    4694,
                    3805,
                    4153,
                    5191,
                    3873,
                    4758,
                    5895,
                    5130,
                    3542,
                    4661,
                    1115,
                    4334,
                    4634,
                    5204,
                    5058,
                    5115,
                    4727,
                    4484,
                    4940,
                    3351,
                    2710,
                    1996,
                    1842,
                    3544,
                    5345,
                    5046,
                    4713,
                    4763,
                    4785,
                    3659,
                    4760,
                    4511,
                    4274,
                    4539,
                    3641,
                    4352,
                    4795,
                    2395,
                    5423,
                    5010,
                    4630,
                    4120,
                    3907,
                    4839,
                    5202,
                    2429,
                    2918,
                    3570,
                    4456,
                    4826,
                    4765,
                    4985,
                    5409,
                    5511,
                    5117,
                    4563,
                    2416,
                    2913,
                    3644,
                    5217,
                    5041,
                    4570,
                    4748,
                    2424,
                    4195,
                    4304,
                    4308,
                    4381,
                    4187,
                    4687,
                    3894,
                    2659,
                    3747,
                    627,
                    3331,
                    3669,
                    4068,
                    4186,
                    3974,
                    4046,
                    3926,
                    3649,
                    4035,
                    4205,
                    4109,
                    2933,
                    3368,
                    4067,
                    3717,
                    4486,
                    4195,
                    1817,
                    3053,
                    3392,
                    3663,
                    3520,
                    2765,
                    1607,
                    2566,
                    1495,
                    2792,
                    3068,
                    3071,
                    3867,
                    2914,
                    3613,
                    3727,
                    3940,
                    3614,
                    3485,
                    3811,
                    2594,
                    705,
                    3322,
                    3620,
                    3190,
                    2743,
                    3310,
                    3523,
                    3740,
                    3709,
                    3577,
                    2739,
                    2431,
                    3403,
                    3750,
                    2660,
                    3068,
                    2209,
                    1011,
                    754,
                    1317,
                    1162,
                    2302,
                    2423,
                    2999,
                    2485,
                    2294,
                    1951,
                    2236,
                    2368,
                    3272,
                    4098,
                    4521,
                    3425,
                    2376,
                    3598,
                    2177,
                    4097,
                    3214,
                    2493,
                    2311,
                    2298,
                    2935,
                    3376,
                    3292,
                    3163,
                    1301,
                    1977,
                    2432,
                    4339,
                    4270,
                    4075,
                    3456,
                    4023,
                    3243,
                    3624,
                    4509,
                    4579,
                    3761,
                    4151,
                    2832,
                    2947,
                    3784,
                    4375,
                    2802,
                    3830,
                    3831,
                    2169,
                    1529,
                    3422,
                    3922,
                    4169,
                    3005,
                    4154,
                    4318,
                    2689,
                    3129,
                    3777,
                    4773,
                    5062,
                    3487,
                    2732,
                    3389,
                    4322,
                    4363,
                    1834,
                    4990,
                    3194,
                    4066,
                    3423,
                    3333,
                    3956,
                    4916,
                    5382,
                    4569,
                    4118,
                    4911,
                    5298,
                    5847,
                    6312,
                    6192,
                    4378,
                    7836,
                    5892,
                    6153,
                    6093,
                    6230,
                    6871,
                    8362,
                    3372,
                    4996,
                    5558,
                    5102,
                    5698,
                    6133,
                    5459,
                    6235,
                    6041,
                    5936,
                    6772,
                    6436,
                    6457,
                    6460,
                    6857,
                    5169,
                    5585,
                    5918,
                    4862,
                    5409,
                    6398,
                    7460,
                    7132,
                    6370,
                    6691,
                    4367,
                    6565,
                    7290,
                    6624,
                    1027,
                    3214,
                    5633,
                    6196,
                    5026,
                    6233,
                    4220,
                    6304,
                    5572,
                    5740,
                    6169,
                    6421,
                    6296,
                    6883,
                    6359,
                    6273,
                    5728,
                    4717,
                    6572,
                    7030,
                    7429,
                    6118,
                    2843,
                    5115,
                    7424,
                    7384,
                    7639,
                    8294,
                    7129,
                    4359,
                    6073,
                    5260,
                    6770,
                    6734,
                    6536,
                    6591,
                    6043,
                    5743,
                    6855,
                    7338,
                    4127,
                    8120,
                    7641,
                    6998,
                    7001,
                    7055,
                    7494,
                    7736,
                    7498,
                    6598,
                    6664,
                    4972,
                    7421,
                    7363,
                    7665,
                    7702,
                    6978,
                    5099,
                    6825,
                    6211,
                    5905,
                    5823,
                    7458,
                    6891,
                    6779,
                    7442,
                    7335,
                    6879,
                    5463,
                    5687,
                    5531,
                    6227,
                    6660,
                    7403,
                    6241,
                    6207,
                    4840,
                    4672,
                    6569,
                    6290,
                    7264,
                    7446,
                    7499,
                    6969,
                    6031,
                    6830,
                    6786,
                    5713,
                    6591,
                    5870,
                    4459,
                    7410,
                    6966,
                    7592,
                    8173,
                    6861,
                    6904,
                    6685,
                    6597,
                    7105,
                    7216,
                    7580,
                    7261,
                    7175,
                    6824,
                    5464,
                    7013,
                    7273,
                    7534,
                    7286,
                    5786,
                    6299,
                    6544,
                    6883,
                    6784,
                    7347,
                    7605,
                    7148,
                    7865,
                    4549,
                    6530,
                    7006,
                    7375,
                    7765,
                    7582,
                    6053,
                    5255,
                    6917,
                    7040,
                    7697,
                    7713,
                    7350,
                    6140,
                    5810,
                    6034,
                    6864,
                    7112,
                    6203,
                    7504,
                    5976,
                    8227,
                    7525,
                    7767,
                    7870,
                    7804,
                    8009,
                    8714,
                    7333,
                    6869,
                    4073,
                    7591,
                    7720,
                    8167,
                    8395,
                    7907,
                    7436,
                    7538,
                    7733,
                    7393,
                    7415,
                    8555,
                    6889,
                    6778,
                    4639,
                    7572,
                    7328,
                    8156,
                    7965,
                    3510,
                    5478,
                    6392,
                    7691,
                    7570,
                    7282,
                    7109,
                    6639,
                    5875,
                    7534,
                    7461,
                    7509,
                    5424,
                    8090,
                    6824,
                    7058,
                    7466,
                    7693,
                    7359,
                    7444,
                    7852,
                    4459,
                    22,
                    1096,
                    5566,
                    5986,
                    5847,
                    5138,
                    5107,
                    5259,
                    5686,
                    5035,
                    5315,
                    5992,
                    6536,
                    6852,
                    6269,
                    4094,
                    5495,
                    5445,
                    5698,
                    5629,
                    4669,
                    5499,
                    5634,
                    5146,
                    2425,
                    3910,
                    2277,
                    2424,
                    5087,
                    3959,
                    5260,
                    5323,
                    5668,
                    5191,
                    4649,
                    6234,
                    6606,
                    5729,
                    5375,
                    5008,
                    5582,
                    3228,
                    5170,
                    5501,
                    5319,
                    5532,
                    5611,
                    5047,
                    3786,
                    4585,
                    5557,
                    5267,
                    4128,
                    3623,
                    1749,
                    1787,
                    920,
                    1013,
                    441,
                    2114,
                    3095,
                    1341,
                    1796,
                    2729
                  ],
                  "y0": " ",
                  "yaxis": "y"
                }
              ],
              "layout": {
                "boxmode": "group",
                "legend": {
                  "tracegroupgap": 0
                },
                "margin": {
                  "t": 60
                },
                "template": {
                  "data": {
                    "bar": [
                      {
                        "error_x": {
                          "color": "#2a3f5f"
                        },
                        "error_y": {
                          "color": "#2a3f5f"
                        },
                        "marker": {
                          "line": {
                            "color": "#E5ECF6",
                            "width": 0.5
                          },
                          "pattern": {
                            "fillmode": "overlay",
                            "size": 10,
                            "solidity": 0.2
                          }
                        },
                        "type": "bar"
                      }
                    ],
                    "barpolar": [
                      {
                        "marker": {
                          "line": {
                            "color": "#E5ECF6",
                            "width": 0.5
                          },
                          "pattern": {
                            "fillmode": "overlay",
                            "size": 10,
                            "solidity": 0.2
                          }
                        },
                        "type": "barpolar"
                      }
                    ],
                    "carpet": [
                      {
                        "aaxis": {
                          "endlinecolor": "#2a3f5f",
                          "gridcolor": "white",
                          "linecolor": "white",
                          "minorgridcolor": "white",
                          "startlinecolor": "#2a3f5f"
                        },
                        "baxis": {
                          "endlinecolor": "#2a3f5f",
                          "gridcolor": "white",
                          "linecolor": "white",
                          "minorgridcolor": "white",
                          "startlinecolor": "#2a3f5f"
                        },
                        "type": "carpet"
                      }
                    ],
                    "choropleth": [
                      {
                        "colorbar": {
                          "outlinewidth": 0,
                          "ticks": ""
                        },
                        "type": "choropleth"
                      }
                    ],
                    "contour": [
                      {
                        "colorbar": {
                          "outlinewidth": 0,
                          "ticks": ""
                        },
                        "colorscale": [
                          [
                            0,
                            "#0d0887"
                          ],
                          [
                            0.1111111111111111,
                            "#46039f"
                          ],
                          [
                            0.2222222222222222,
                            "#7201a8"
                          ],
                          [
                            0.3333333333333333,
                            "#9c179e"
                          ],
                          [
                            0.4444444444444444,
                            "#bd3786"
                          ],
                          [
                            0.5555555555555556,
                            "#d8576b"
                          ],
                          [
                            0.6666666666666666,
                            "#ed7953"
                          ],
                          [
                            0.7777777777777778,
                            "#fb9f3a"
                          ],
                          [
                            0.8888888888888888,
                            "#fdca26"
                          ],
                          [
                            1,
                            "#f0f921"
                          ]
                        ],
                        "type": "contour"
                      }
                    ],
                    "contourcarpet": [
                      {
                        "colorbar": {
                          "outlinewidth": 0,
                          "ticks": ""
                        },
                        "type": "contourcarpet"
                      }
                    ],
                    "heatmap": [
                      {
                        "colorbar": {
                          "outlinewidth": 0,
                          "ticks": ""
                        },
                        "colorscale": [
                          [
                            0,
                            "#0d0887"
                          ],
                          [
                            0.1111111111111111,
                            "#46039f"
                          ],
                          [
                            0.2222222222222222,
                            "#7201a8"
                          ],
                          [
                            0.3333333333333333,
                            "#9c179e"
                          ],
                          [
                            0.4444444444444444,
                            "#bd3786"
                          ],
                          [
                            0.5555555555555556,
                            "#d8576b"
                          ],
                          [
                            0.6666666666666666,
                            "#ed7953"
                          ],
                          [
                            0.7777777777777778,
                            "#fb9f3a"
                          ],
                          [
                            0.8888888888888888,
                            "#fdca26"
                          ],
                          [
                            1,
                            "#f0f921"
                          ]
                        ],
                        "type": "heatmap"
                      }
                    ],
                    "heatmapgl": [
                      {
                        "colorbar": {
                          "outlinewidth": 0,
                          "ticks": ""
                        },
                        "colorscale": [
                          [
                            0,
                            "#0d0887"
                          ],
                          [
                            0.1111111111111111,
                            "#46039f"
                          ],
                          [
                            0.2222222222222222,
                            "#7201a8"
                          ],
                          [
                            0.3333333333333333,
                            "#9c179e"
                          ],
                          [
                            0.4444444444444444,
                            "#bd3786"
                          ],
                          [
                            0.5555555555555556,
                            "#d8576b"
                          ],
                          [
                            0.6666666666666666,
                            "#ed7953"
                          ],
                          [
                            0.7777777777777778,
                            "#fb9f3a"
                          ],
                          [
                            0.8888888888888888,
                            "#fdca26"
                          ],
                          [
                            1,
                            "#f0f921"
                          ]
                        ],
                        "type": "heatmapgl"
                      }
                    ],
                    "histogram": [
                      {
                        "marker": {
                          "pattern": {
                            "fillmode": "overlay",
                            "size": 10,
                            "solidity": 0.2
                          }
                        },
                        "type": "histogram"
                      }
                    ],
                    "histogram2d": [
                      {
                        "colorbar": {
                          "outlinewidth": 0,
                          "ticks": ""
                        },
                        "colorscale": [
                          [
                            0,
                            "#0d0887"
                          ],
                          [
                            0.1111111111111111,
                            "#46039f"
                          ],
                          [
                            0.2222222222222222,
                            "#7201a8"
                          ],
                          [
                            0.3333333333333333,
                            "#9c179e"
                          ],
                          [
                            0.4444444444444444,
                            "#bd3786"
                          ],
                          [
                            0.5555555555555556,
                            "#d8576b"
                          ],
                          [
                            0.6666666666666666,
                            "#ed7953"
                          ],
                          [
                            0.7777777777777778,
                            "#fb9f3a"
                          ],
                          [
                            0.8888888888888888,
                            "#fdca26"
                          ],
                          [
                            1,
                            "#f0f921"
                          ]
                        ],
                        "type": "histogram2d"
                      }
                    ],
                    "histogram2dcontour": [
                      {
                        "colorbar": {
                          "outlinewidth": 0,
                          "ticks": ""
                        },
                        "colorscale": [
                          [
                            0,
                            "#0d0887"
                          ],
                          [
                            0.1111111111111111,
                            "#46039f"
                          ],
                          [
                            0.2222222222222222,
                            "#7201a8"
                          ],
                          [
                            0.3333333333333333,
                            "#9c179e"
                          ],
                          [
                            0.4444444444444444,
                            "#bd3786"
                          ],
                          [
                            0.5555555555555556,
                            "#d8576b"
                          ],
                          [
                            0.6666666666666666,
                            "#ed7953"
                          ],
                          [
                            0.7777777777777778,
                            "#fb9f3a"
                          ],
                          [
                            0.8888888888888888,
                            "#fdca26"
                          ],
                          [
                            1,
                            "#f0f921"
                          ]
                        ],
                        "type": "histogram2dcontour"
                      }
                    ],
                    "mesh3d": [
                      {
                        "colorbar": {
                          "outlinewidth": 0,
                          "ticks": ""
                        },
                        "type": "mesh3d"
                      }
                    ],
                    "parcoords": [
                      {
                        "line": {
                          "colorbar": {
                            "outlinewidth": 0,
                            "ticks": ""
                          }
                        },
                        "type": "parcoords"
                      }
                    ],
                    "pie": [
                      {
                        "automargin": true,
                        "type": "pie"
                      }
                    ],
                    "scatter": [
                      {
                        "fillpattern": {
                          "fillmode": "overlay",
                          "size": 10,
                          "solidity": 0.2
                        },
                        "type": "scatter"
                      }
                    ],
                    "scatter3d": [
                      {
                        "line": {
                          "colorbar": {
                            "outlinewidth": 0,
                            "ticks": ""
                          }
                        },
                        "marker": {
                          "colorbar": {
                            "outlinewidth": 0,
                            "ticks": ""
                          }
                        },
                        "type": "scatter3d"
                      }
                    ],
                    "scattercarpet": [
                      {
                        "marker": {
                          "colorbar": {
                            "outlinewidth": 0,
                            "ticks": ""
                          }
                        },
                        "type": "scattercarpet"
                      }
                    ],
                    "scattergeo": [
                      {
                        "marker": {
                          "colorbar": {
                            "outlinewidth": 0,
                            "ticks": ""
                          }
                        },
                        "type": "scattergeo"
                      }
                    ],
                    "scattergl": [
                      {
                        "marker": {
                          "colorbar": {
                            "outlinewidth": 0,
                            "ticks": ""
                          }
                        },
                        "type": "scattergl"
                      }
                    ],
                    "scattermapbox": [
                      {
                        "marker": {
                          "colorbar": {
                            "outlinewidth": 0,
                            "ticks": ""
                          }
                        },
                        "type": "scattermapbox"
                      }
                    ],
                    "scatterpolar": [
                      {
                        "marker": {
                          "colorbar": {
                            "outlinewidth": 0,
                            "ticks": ""
                          }
                        },
                        "type": "scatterpolar"
                      }
                    ],
                    "scatterpolargl": [
                      {
                        "marker": {
                          "colorbar": {
                            "outlinewidth": 0,
                            "ticks": ""
                          }
                        },
                        "type": "scatterpolargl"
                      }
                    ],
                    "scatterternary": [
                      {
                        "marker": {
                          "colorbar": {
                            "outlinewidth": 0,
                            "ticks": ""
                          }
                        },
                        "type": "scatterternary"
                      }
                    ],
                    "surface": [
                      {
                        "colorbar": {
                          "outlinewidth": 0,
                          "ticks": ""
                        },
                        "colorscale": [
                          [
                            0,
                            "#0d0887"
                          ],
                          [
                            0.1111111111111111,
                            "#46039f"
                          ],
                          [
                            0.2222222222222222,
                            "#7201a8"
                          ],
                          [
                            0.3333333333333333,
                            "#9c179e"
                          ],
                          [
                            0.4444444444444444,
                            "#bd3786"
                          ],
                          [
                            0.5555555555555556,
                            "#d8576b"
                          ],
                          [
                            0.6666666666666666,
                            "#ed7953"
                          ],
                          [
                            0.7777777777777778,
                            "#fb9f3a"
                          ],
                          [
                            0.8888888888888888,
                            "#fdca26"
                          ],
                          [
                            1,
                            "#f0f921"
                          ]
                        ],
                        "type": "surface"
                      }
                    ],
                    "table": [
                      {
                        "cells": {
                          "fill": {
                            "color": "#EBF0F8"
                          },
                          "line": {
                            "color": "white"
                          }
                        },
                        "header": {
                          "fill": {
                            "color": "#C8D4E3"
                          },
                          "line": {
                            "color": "white"
                          }
                        },
                        "type": "table"
                      }
                    ]
                  },
                  "layout": {
                    "annotationdefaults": {
                      "arrowcolor": "#2a3f5f",
                      "arrowhead": 0,
                      "arrowwidth": 1
                    },
                    "autotypenumbers": "strict",
                    "coloraxis": {
                      "colorbar": {
                        "outlinewidth": 0,
                        "ticks": ""
                      }
                    },
                    "colorscale": {
                      "diverging": [
                        [
                          0,
                          "#8e0152"
                        ],
                        [
                          0.1,
                          "#c51b7d"
                        ],
                        [
                          0.2,
                          "#de77ae"
                        ],
                        [
                          0.3,
                          "#f1b6da"
                        ],
                        [
                          0.4,
                          "#fde0ef"
                        ],
                        [
                          0.5,
                          "#f7f7f7"
                        ],
                        [
                          0.6,
                          "#e6f5d0"
                        ],
                        [
                          0.7,
                          "#b8e186"
                        ],
                        [
                          0.8,
                          "#7fbc41"
                        ],
                        [
                          0.9,
                          "#4d9221"
                        ],
                        [
                          1,
                          "#276419"
                        ]
                      ],
                      "sequential": [
                        [
                          0,
                          "#0d0887"
                        ],
                        [
                          0.1111111111111111,
                          "#46039f"
                        ],
                        [
                          0.2222222222222222,
                          "#7201a8"
                        ],
                        [
                          0.3333333333333333,
                          "#9c179e"
                        ],
                        [
                          0.4444444444444444,
                          "#bd3786"
                        ],
                        [
                          0.5555555555555556,
                          "#d8576b"
                        ],
                        [
                          0.6666666666666666,
                          "#ed7953"
                        ],
                        [
                          0.7777777777777778,
                          "#fb9f3a"
                        ],
                        [
                          0.8888888888888888,
                          "#fdca26"
                        ],
                        [
                          1,
                          "#f0f921"
                        ]
                      ],
                      "sequentialminus": [
                        [
                          0,
                          "#0d0887"
                        ],
                        [
                          0.1111111111111111,
                          "#46039f"
                        ],
                        [
                          0.2222222222222222,
                          "#7201a8"
                        ],
                        [
                          0.3333333333333333,
                          "#9c179e"
                        ],
                        [
                          0.4444444444444444,
                          "#bd3786"
                        ],
                        [
                          0.5555555555555556,
                          "#d8576b"
                        ],
                        [
                          0.6666666666666666,
                          "#ed7953"
                        ],
                        [
                          0.7777777777777778,
                          "#fb9f3a"
                        ],
                        [
                          0.8888888888888888,
                          "#fdca26"
                        ],
                        [
                          1,
                          "#f0f921"
                        ]
                      ]
                    },
                    "colorway": [
                      "#636efa",
                      "#EF553B",
                      "#00cc96",
                      "#ab63fa",
                      "#FFA15A",
                      "#19d3f3",
                      "#FF6692",
                      "#B6E880",
                      "#FF97FF",
                      "#FECB52"
                    ],
                    "font": {
                      "color": "#2a3f5f"
                    },
                    "geo": {
                      "bgcolor": "white",
                      "lakecolor": "white",
                      "landcolor": "#E5ECF6",
                      "showlakes": true,
                      "showland": true,
                      "subunitcolor": "white"
                    },
                    "hoverlabel": {
                      "align": "left"
                    },
                    "hovermode": "closest",
                    "mapbox": {
                      "style": "light"
                    },
                    "paper_bgcolor": "white",
                    "plot_bgcolor": "#E5ECF6",
                    "polar": {
                      "angularaxis": {
                        "gridcolor": "white",
                        "linecolor": "white",
                        "ticks": ""
                      },
                      "bgcolor": "#E5ECF6",
                      "radialaxis": {
                        "gridcolor": "white",
                        "linecolor": "white",
                        "ticks": ""
                      }
                    },
                    "scene": {
                      "xaxis": {
                        "backgroundcolor": "#E5ECF6",
                        "gridcolor": "white",
                        "gridwidth": 2,
                        "linecolor": "white",
                        "showbackground": true,
                        "ticks": "",
                        "zerolinecolor": "white"
                      },
                      "yaxis": {
                        "backgroundcolor": "#E5ECF6",
                        "gridcolor": "white",
                        "gridwidth": 2,
                        "linecolor": "white",
                        "showbackground": true,
                        "ticks": "",
                        "zerolinecolor": "white"
                      },
                      "zaxis": {
                        "backgroundcolor": "#E5ECF6",
                        "gridcolor": "white",
                        "gridwidth": 2,
                        "linecolor": "white",
                        "showbackground": true,
                        "ticks": "",
                        "zerolinecolor": "white"
                      }
                    },
                    "shapedefaults": {
                      "line": {
                        "color": "#2a3f5f"
                      }
                    },
                    "ternary": {
                      "aaxis": {
                        "gridcolor": "white",
                        "linecolor": "white",
                        "ticks": ""
                      },
                      "baxis": {
                        "gridcolor": "white",
                        "linecolor": "white",
                        "ticks": ""
                      },
                      "bgcolor": "#E5ECF6",
                      "caxis": {
                        "gridcolor": "white",
                        "linecolor": "white",
                        "ticks": ""
                      }
                    },
                    "title": {
                      "x": 0.05
                    },
                    "xaxis": {
                      "automargin": true,
                      "gridcolor": "white",
                      "linecolor": "white",
                      "ticks": "",
                      "title": {
                        "standoff": 15
                      },
                      "zerolinecolor": "white",
                      "zerolinewidth": 2
                    },
                    "yaxis": {
                      "automargin": true,
                      "gridcolor": "white",
                      "linecolor": "white",
                      "ticks": "",
                      "title": {
                        "standoff": 15
                      },
                      "zerolinecolor": "white",
                      "zerolinewidth": 2
                    }
                  }
                },
                "title": {
                  "text": "Hubungan antara Hari Libur dan Jumlah Sewa"
                },
                "xaxis": {
                  "anchor": "y",
                  "domain": [
                    0,
                    1
                  ],
                  "title": {
                    "text": "holiday"
                  }
                },
                "yaxis": {
                  "anchor": "x",
                  "domain": [
                    0,
                    1
                  ],
                  "title": {
                    "text": "cnt"
                  }
                }
              }
            }
          },
          "metadata": {},
          "output_type": "display_data"
        }
      ],
      "source": [
        "fig = plotex.box(dfDay, x='holiday', y='cnt')\n",
        "fig.update_layout(title='Hubungan antara Hari Libur dan Jumlah Sewa')\n",
        "fig.show()"
      ]
    },
    {
      "cell_type": "markdown",
      "metadata": {
        "id": "zsyZjqak8DC2"
      },
      "source": [
        "## Visualization & Explanatory Analysis"
      ]
    },
    {
      "cell_type": "markdown",
      "metadata": {
        "id": "HZxOiQ6n8DC2"
      },
      "source": [
        "### Pertanyaan 1: <p>Berapa jumlah total sepeda yang disewa pada tahun 2011 pada musim dingin (season : 4) ?\n"
      ]
    },
    {
      "cell_type": "code",
      "execution_count": 15,
      "metadata": {
        "id": "1swJUdAD8DC2"
      },
      "outputs": [
        {
          "name": "stdout",
          "output_type": "stream",
          "text": [
            "Jumlah total sewa sepeda untuk tahun 2011 selama musim dingin (musim : 4): 326137\n"
          ]
        }
      ],
      "source": [
        "\n",
        "dataRulesfirst = dfDay[(dfDay[\"yr\"] == 0) & (dfDay[\"season\"] == 4)]\n",
        "sumBike = dataRulesfirst[\"cnt\"].sum()\n",
        "\n",
        "print(\"Jumlah total sewa sepeda untuk tahun 2011 selama musim dingin (musim : 4):\", sumBike)"
      ]
    },
    {
      "cell_type": "markdown",
      "metadata": {
        "id": "DgHI7CiU8DC2"
      },
      "source": [
        "### Pertanyaan 2: <p>Berapa banyak sepeda yang disewa yang digunakan pada hari kerja (workingday) selama musim panas (musim : 2) pada tahun 2012?\n"
      ]
    },
    {
      "cell_type": "code",
      "execution_count": 16,
      "metadata": {
        "id": "Go0lCsvO8DC2"
      },
      "outputs": [
        {
          "name": "stdout",
          "output_type": "stream",
          "text": [
            "Jumlah total banyak sepeda yang disewa yang digunakan pada hari kerja (workingday) selama musim panas (musim : 2) pada tahun 2012: 558860\n"
          ]
        }
      ],
      "source": [
        "dataRulesscnd = dfDay[(dfDay[\"yr\"] == 1) & (dfDay[\"season\"] == 2) & (dfDay[\"holiday\"] == 0)]\n",
        "\n",
        "sumBike = dataRulesscnd[\"cnt\"].sum()\n",
        "\n",
        "print(\"Jumlah total banyak sepeda yang disewa yang digunakan pada hari kerja (workingday) selama musim panas (musim : 2) pada tahun 2012:\", sumBike)"
      ]
    },
    {
      "cell_type": "markdown",
      "metadata": {},
      "source": [
        "### Pertanyaan 3: <p>Berapa banyak sepeda yang dipinjam pada cuaca heavy Light Rain + Scattered clouds (weathersit : 3)?\n",
        "\n"
      ]
    },
    {
      "cell_type": "code",
      "execution_count": 17,
      "metadata": {},
      "outputs": [
        {
          "name": "stdout",
          "output_type": "stream",
          "text": [
            "Jumlah total sewa sepeda yang digunakan pada saat cuaca cerah (weathersit = 3) : 37869\n"
          ]
        }
      ],
      "source": [
        "dataRulesThird = dfDay[(dfDay[\"weathersit\"] == 3)]\n",
        "\n",
        "sumBike = dataRulesThird[\"cnt\"].sum()\n",
        "\n",
        "print(\"Jumlah total sewa sepeda yang digunakan pada saat cuaca cerah (weathersit = 3) :\", sumBike)"
      ]
    },
    {
      "cell_type": "markdown",
      "metadata": {},
      "source": [
        "### Pertanyaan 4: <p>Apa pengaruh cuaca (weathersit) dengan jumlah pengguna yang terdaftar (regsitered)?\n",
        "\n"
      ]
    },
    {
      "cell_type": "code",
      "execution_count": 18,
      "metadata": {},
      "outputs": [
        {
          "data": {
            "application/vnd.plotly.v1+json": {
              "config": {
                "plotlyServerURL": "https://plot.ly"
              },
              "data": [
                {
                  "hovertemplate": "weathersit=%{x}<br>registered=%{y}<extra></extra>",
                  "legendgroup": "",
                  "marker": {
                    "color": "#636efa",
                    "symbol": "circle"
                  },
                  "mode": "markers",
                  "name": "",
                  "orientation": "v",
                  "showlegend": false,
                  "type": "scatter",
                  "x": [
                    2,
                    2,
                    1,
                    1,
                    1,
                    1,
                    2,
                    2,
                    1,
                    1,
                    2,
                    1,
                    1,
                    1,
                    2,
                    1,
                    2,
                    2,
                    2,
                    2,
                    1,
                    1,
                    1,
                    1,
                    2,
                    3,
                    1,
                    2,
                    1,
                    1,
                    2,
                    2,
                    2,
                    1,
                    2,
                    2,
                    1,
                    1,
                    1,
                    2,
                    1,
                    1,
                    1,
                    1,
                    1,
                    1,
                    1,
                    1,
                    1,
                    1,
                    1,
                    2,
                    1,
                    1,
                    2,
                    2,
                    1,
                    1,
                    2,
                    1,
                    1,
                    1,
                    2,
                    2,
                    2,
                    1,
                    1,
                    2,
                    3,
                    2,
                    1,
                    1,
                    1,
                    2,
                    2,
                    1,
                    1,
                    1,
                    1,
                    2,
                    1,
                    2,
                    2,
                    1,
                    1,
                    2,
                    1,
                    1,
                    2,
                    3,
                    2,
                    2,
                    1,
                    1,
                    2,
                    1,
                    1,
                    2,
                    2,
                    2,
                    2,
                    2,
                    2,
                    1,
                    1,
                    3,
                    1,
                    1,
                    2,
                    1,
                    1,
                    2,
                    2,
                    2,
                    1,
                    1,
                    2,
                    2,
                    1,
                    1,
                    2,
                    2,
                    2,
                    2,
                    1,
                    1,
                    1,
                    1,
                    1,
                    1,
                    1,
                    1,
                    2,
                    2,
                    2,
                    1,
                    2,
                    2,
                    2,
                    1,
                    1,
                    1,
                    2,
                    2,
                    1,
                    1,
                    1,
                    1,
                    1,
                    1,
                    1,
                    2,
                    1,
                    1,
                    1,
                    2,
                    1,
                    1,
                    1,
                    2,
                    1,
                    1,
                    1,
                    1,
                    1,
                    1,
                    2,
                    1,
                    1,
                    2,
                    2,
                    2,
                    1,
                    2,
                    1,
                    1,
                    1,
                    2,
                    1,
                    1,
                    1,
                    1,
                    1,
                    2,
                    2,
                    1,
                    1,
                    1,
                    2,
                    1,
                    1,
                    1,
                    1,
                    1,
                    1,
                    1,
                    1,
                    1,
                    1,
                    1,
                    1,
                    2,
                    1,
                    1,
                    1,
                    1,
                    1,
                    1,
                    1,
                    1,
                    1,
                    1,
                    1,
                    1,
                    2,
                    2,
                    1,
                    2,
                    1,
                    1,
                    1,
                    1,
                    1,
                    1,
                    2,
                    2,
                    1,
                    1,
                    1,
                    1,
                    2,
                    1,
                    1,
                    1,
                    1,
                    1,
                    2,
                    1,
                    2,
                    1,
                    1,
                    1,
                    1,
                    1,
                    2,
                    1,
                    1,
                    2,
                    3,
                    3,
                    3,
                    2,
                    1,
                    1,
                    1,
                    1,
                    1,
                    2,
                    2,
                    2,
                    1,
                    2,
                    2,
                    2,
                    2,
                    2,
                    2,
                    2,
                    2,
                    2,
                    2,
                    1,
                    1,
                    2,
                    2,
                    2,
                    1,
                    1,
                    1,
                    1,
                    1,
                    1,
                    1,
                    2,
                    3,
                    2,
                    2,
                    1,
                    1,
                    1,
                    2,
                    3,
                    1,
                    1,
                    1,
                    1,
                    1,
                    1,
                    2,
                    2,
                    2,
                    3,
                    1,
                    1,
                    1,
                    1,
                    1,
                    2,
                    1,
                    1,
                    1,
                    1,
                    1,
                    2,
                    1,
                    1,
                    1,
                    1,
                    2,
                    3,
                    2,
                    1,
                    1,
                    2,
                    3,
                    3,
                    2,
                    1,
                    1,
                    1,
                    1,
                    1,
                    2,
                    1,
                    1,
                    1,
                    1,
                    1,
                    2,
                    3,
                    3,
                    1,
                    1,
                    1,
                    1,
                    1,
                    1,
                    2,
                    2,
                    2,
                    2,
                    1,
                    1,
                    2,
                    2,
                    2,
                    1,
                    1,
                    1,
                    1,
                    2,
                    1,
                    1,
                    1,
                    1,
                    1,
                    1,
                    1,
                    2,
                    1,
                    1,
                    1,
                    1,
                    2,
                    1,
                    2,
                    2,
                    1,
                    1,
                    1,
                    1,
                    2,
                    1,
                    1,
                    2,
                    2,
                    2,
                    2,
                    1,
                    1,
                    2,
                    2,
                    1,
                    1,
                    1,
                    1,
                    1,
                    2,
                    1,
                    2,
                    2,
                    1,
                    1,
                    2,
                    1,
                    2,
                    3,
                    1,
                    1,
                    2,
                    1,
                    2,
                    1,
                    1,
                    2,
                    1,
                    1,
                    1,
                    1,
                    2,
                    1,
                    1,
                    1,
                    1,
                    2,
                    1,
                    2,
                    2,
                    1,
                    1,
                    1,
                    1,
                    1,
                    2,
                    1,
                    1,
                    1,
                    1,
                    1,
                    1,
                    2,
                    2,
                    2,
                    1,
                    1,
                    2,
                    1,
                    2,
                    2,
                    2,
                    1,
                    1,
                    1,
                    1,
                    2,
                    2,
                    2,
                    1,
                    1,
                    1,
                    1,
                    1,
                    1,
                    1,
                    1,
                    1,
                    1,
                    1,
                    1,
                    1,
                    1,
                    1,
                    1,
                    2,
                    1,
                    1,
                    1,
                    3,
                    2,
                    1,
                    1,
                    2,
                    1,
                    2,
                    1,
                    2,
                    2,
                    1,
                    2,
                    1,
                    2,
                    2,
                    2,
                    2,
                    2,
                    1,
                    1,
                    1,
                    1,
                    2,
                    2,
                    1,
                    1,
                    1,
                    1,
                    1,
                    2,
                    2,
                    2,
                    1,
                    1,
                    1,
                    1,
                    1,
                    1,
                    2,
                    1,
                    2,
                    1,
                    1,
                    1,
                    2,
                    1,
                    1,
                    1,
                    1,
                    1,
                    2,
                    2,
                    1,
                    1,
                    1,
                    1,
                    1,
                    2,
                    1,
                    1,
                    1,
                    1,
                    1,
                    1,
                    1,
                    1,
                    1,
                    1,
                    1,
                    1,
                    1,
                    1,
                    1,
                    1,
                    1,
                    1,
                    1,
                    1,
                    2,
                    2,
                    1,
                    1,
                    2,
                    2,
                    1,
                    1,
                    1,
                    1,
                    1,
                    2,
                    3,
                    2,
                    1,
                    1,
                    1,
                    1,
                    1,
                    1,
                    1,
                    1,
                    1,
                    1,
                    1,
                    2,
                    1,
                    1,
                    2,
                    2,
                    2,
                    1,
                    2,
                    2,
                    1,
                    1,
                    1,
                    1,
                    1,
                    1,
                    1,
                    2,
                    2,
                    1,
                    1,
                    1,
                    2,
                    2,
                    2,
                    1,
                    1,
                    1,
                    1,
                    1,
                    2,
                    2,
                    1,
                    1,
                    1,
                    2,
                    1,
                    2,
                    1,
                    1,
                    1,
                    1,
                    1,
                    1,
                    1,
                    1,
                    2,
                    2,
                    1,
                    1,
                    1,
                    1,
                    1,
                    1,
                    1,
                    1,
                    2,
                    2,
                    1,
                    1,
                    2,
                    3,
                    2,
                    2,
                    1,
                    1,
                    2,
                    2,
                    2,
                    1,
                    1,
                    1,
                    1,
                    1,
                    2,
                    1,
                    1,
                    2,
                    2,
                    1,
                    1,
                    1,
                    1,
                    1,
                    2,
                    2,
                    2,
                    2,
                    3,
                    2,
                    2,
                    2,
                    1,
                    2,
                    1,
                    1,
                    1,
                    2,
                    1,
                    1,
                    1,
                    1,
                    1,
                    2,
                    1,
                    2,
                    1,
                    1,
                    1,
                    2,
                    2,
                    1,
                    1,
                    1,
                    1,
                    1,
                    1,
                    2,
                    1,
                    1,
                    1,
                    2,
                    2,
                    1,
                    1,
                    1,
                    1,
                    2,
                    2,
                    2,
                    2,
                    2,
                    2,
                    1,
                    1,
                    1,
                    2,
                    2,
                    1,
                    1,
                    2,
                    2,
                    1,
                    1,
                    2,
                    2,
                    3,
                    2,
                    2,
                    2,
                    1,
                    2
                  ],
                  "xaxis": "x",
                  "y": [
                    654,
                    670,
                    1229,
                    1454,
                    1518,
                    1518,
                    1362,
                    891,
                    768,
                    1280,
                    1220,
                    1137,
                    1368,
                    1367,
                    1026,
                    953,
                    883,
                    674,
                    1572,
                    1844,
                    1468,
                    888,
                    836,
                    1330,
                    1799,
                    472,
                    416,
                    1129,
                    975,
                    956,
                    1459,
                    1313,
                    1454,
                    1489,
                    1620,
                    905,
                    1269,
                    1592,
                    1466,
                    1552,
                    1491,
                    1597,
                    1184,
                    1192,
                    1705,
                    1675,
                    1897,
                    2216,
                    2348,
                    1103,
                    1173,
                    912,
                    1376,
                    1778,
                    1707,
                    1341,
                    1545,
                    1708,
                    1365,
                    1714,
                    1903,
                    1562,
                    1730,
                    1437,
                    491,
                    1628,
                    1817,
                    1700,
                    577,
                    1730,
                    1408,
                    1435,
                    1687,
                    1767,
                    1871,
                    2320,
                    2355,
                    1693,
                    1424,
                    1676,
                    2243,
                    1918,
                    1699,
                    1910,
                    1515,
                    1221,
                    1806,
                    2108,
                    1368,
                    1506,
                    1920,
                    1354,
                    1598,
                    2381,
                    1628,
                    2395,
                    2570,
                    1299,
                    1576,
                    1707,
                    2493,
                    1777,
                    1953,
                    2738,
                    2484,
                    674,
                    2186,
                    2760,
                    2795,
                    3331,
                    3444,
                    1506,
                    2574,
                    2481,
                    3300,
                    3722,
                    3325,
                    3489,
                    3717,
                    3347,
                    2213,
                    3554,
                    3848,
                    2378,
                    3819,
                    3714,
                    3102,
                    2932,
                    3698,
                    4109,
                    3632,
                    4169,
                    3413,
                    2507,
                    2971,
                    3185,
                    3445,
                    3319,
                    3840,
                    4008,
                    3547,
                    3084,
                    3438,
                    3833,
                    4238,
                    3919,
                    3808,
                    2757,
                    2433,
                    2549,
                    3309,
                    3461,
                    4232,
                    4414,
                    3473,
                    3221,
                    3875,
                    4070,
                    3725,
                    3352,
                    3771,
                    3237,
                    2993,
                    4157,
                    4164,
                    4411,
                    3222,
                    3981,
                    3312,
                    3105,
                    3311,
                    4061,
                    3846,
                    4044,
                    4022,
                    3420,
                    3385,
                    3854,
                    3916,
                    4377,
                    4488,
                    4116,
                    2915,
                    2367,
                    2978,
                    3634,
                    3845,
                    3838,
                    3348,
                    3348,
                    3138,
                    3363,
                    3596,
                    3594,
                    4196,
                    4220,
                    3505,
                    3296,
                    3617,
                    3789,
                    3688,
                    3152,
                    2825,
                    2298,
                    2556,
                    3272,
                    3840,
                    3901,
                    3784,
                    3176,
                    2916,
                    2778,
                    3537,
                    4044,
                    3107,
                    3777,
                    3843,
                    2773,
                    2487,
                    3480,
                    3695,
                    3896,
                    3980,
                    3854,
                    2646,
                    2482,
                    3563,
                    4004,
                    4026,
                    3166,
                    3356,
                    3277,
                    2624,
                    3925,
                    4614,
                    4181,
                    3107,
                    3893,
                    889,
                    2919,
                    3905,
                    4429,
                    4370,
                    4332,
                    3852,
                    2549,
                    2419,
                    2115,
                    2506,
                    1878,
                    1689,
                    3127,
                    3595,
                    3413,
                    4023,
                    4062,
                    4138,
                    3231,
                    4018,
                    3077,
                    2921,
                    3848,
                    3203,
                    3813,
                    4240,
                    2137,
                    3647,
                    3466,
                    3946,
                    3643,
                    3427,
                    4186,
                    4372,
                    1949,
                    2302,
                    3240,
                    3970,
                    4267,
                    4126,
                    4036,
                    3174,
                    3114,
                    3603,
                    3896,
                    2199,
                    2623,
                    3115,
                    3318,
                    3293,
                    3857,
                    4111,
                    2170,
                    3724,
                    3628,
                    2809,
                    2762,
                    3488,
                    3992,
                    3490,
                    2419,
                    3291,
                    570,
                    2446,
                    3307,
                    3658,
                    3816,
                    3656,
                    3576,
                    2770,
                    2697,
                    3662,
                    3829,
                    3804,
                    2743,
                    2928,
                    2792,
                    2713,
                    3891,
                    3746,
                    1672,
                    2914,
                    3147,
                    2720,
                    2733,
                    2545,
                    1538,
                    2454,
                    935,
                    1697,
                    1819,
                    2261,
                    3614,
                    2818,
                    3425,
                    3545,
                    3672,
                    2908,
                    2851,
                    3578,
                    2468,
                    655,
                    3172,
                    3359,
                    2688,
                    2366,
                    3167,
                    3368,
                    3562,
                    3528,
                    3399,
                    2464,
                    2211,
                    3143,
                    3534,
                    2553,
                    2841,
                    2046,
                    856,
                    451,
                    887,
                    1059,
                    2047,
                    2169,
                    2508,
                    1820,
                    1608,
                    1707,
                    2147,
                    2273,
                    3132,
                    3791,
                    3451,
                    2826,
                    2270,
                    3425,
                    2085,
                    3828,
                    3040,
                    2160,
                    2027,
                    2081,
                    2808,
                    3267,
                    3162,
                    3048,
                    1234,
                    1781,
                    2287,
                    3900,
                    3803,
                    3831,
                    3187,
                    3248,
                    2685,
                    3498,
                    4185,
                    4275,
                    3571,
                    3841,
                    2448,
                    2629,
                    3578,
                    4176,
                    2693,
                    3667,
                    3604,
                    1977,
                    1456,
                    3328,
                    3787,
                    4028,
                    2931,
                    3805,
                    2883,
                    2071,
                    2627,
                    3614,
                    4379,
                    4546,
                    3241,
                    2415,
                    2874,
                    4069,
                    4134,
                    1769,
                    4665,
                    2948,
                    3110,
                    2713,
                    3130,
                    3735,
                    4484,
                    4896,
                    4122,
                    3150,
                    3253,
                    4460,
                    5085,
                    5315,
                    5187,
                    3830,
                    4681,
                    3685,
                    5171,
                    5042,
                    5108,
                    5537,
                    5893,
                    2339,
                    3464,
                    4763,
                    4571,
                    5024,
                    5299,
                    4663,
                    3934,
                    3694,
                    4728,
                    5424,
                    5378,
                    5265,
                    4653,
                    3605,
                    2939,
                    4680,
                    5099,
                    4380,
                    4746,
                    5146,
                    4665,
                    4286,
                    5172,
                    5702,
                    4020,
                    5719,
                    5950,
                    4083,
                    907,
                    3019,
                    5115,
                    5541,
                    4551,
                    5219,
                    3100,
                    4075,
                    4907,
                    5087,
                    5502,
                    5657,
                    5227,
                    4387,
                    4224,
                    5265,
                    4990,
                    4097,
                    5546,
                    5711,
                    4807,
                    3946,
                    2501,
                    4490,
                    6433,
                    6142,
                    6118,
                    4884,
                    4425,
                    3729,
                    5254,
                    4494,
                    5711,
                    5317,
                    3681,
                    3308,
                    3486,
                    4863,
                    6110,
                    6238,
                    3594,
                    5325,
                    5147,
                    5927,
                    6033,
                    6028,
                    6456,
                    6248,
                    4790,
                    4374,
                    5647,
                    4495,
                    6248,
                    6183,
                    6102,
                    4739,
                    4344,
                    4446,
                    5857,
                    5339,
                    5127,
                    4859,
                    4801,
                    4340,
                    5640,
                    6365,
                    6258,
                    5958,
                    4634,
                    4232,
                    4110,
                    5323,
                    5608,
                    4841,
                    4836,
                    4841,
                    3392,
                    3469,
                    5571,
                    5336,
                    6289,
                    6414,
                    5988,
                    4614,
                    4111,
                    5742,
                    5865,
                    4914,
                    5703,
                    5123,
                    3195,
                    4866,
                    5831,
                    6452,
                    6790,
                    5825,
                    5645,
                    4451,
                    4444,
                    6065,
                    6248,
                    6506,
                    6278,
                    5847,
                    4479,
                    3757,
                    5780,
                    5995,
                    6271,
                    6090,
                    4721,
                    4052,
                    4362,
                    5676,
                    5656,
                    6149,
                    6267,
                    5665,
                    5038,
                    3341,
                    5504,
                    5925,
                    6281,
                    6402,
                    6257,
                    4224,
                    3772,
                    5928,
                    6105,
                    6520,
                    6541,
                    5917,
                    3788,
                    3197,
                    4069,
                    5997,
                    6280,
                    5592,
                    6459,
                    4419,
                    5657,
                    6407,
                    6697,
                    6820,
                    6750,
                    6630,
                    5554,
                    5167,
                    5847,
                    3702,
                    6803,
                    6781,
                    6917,
                    5883,
                    5453,
                    6435,
                    6693,
                    6946,
                    6642,
                    6370,
                    5966,
                    4874,
                    6015,
                    4324,
                    6844,
                    6437,
                    6640,
                    4934,
                    2729,
                    4604,
                    5791,
                    6911,
                    6736,
                    6222,
                    4857,
                    4559,
                    5115,
                    6612,
                    6482,
                    6501,
                    4671,
                    5284,
                    4692,
                    6228,
                    6625,
                    6898,
                    6484,
                    6262,
                    5209,
                    3461,
                    20,
                    1009,
                    5147,
                    5520,
                    5229,
                    4109,
                    3906,
                    4881,
                    5220,
                    4709,
                    4975,
                    5283,
                    4446,
                    4562,
                    5172,
                    3767,
                    5122,
                    5125,
                    5214,
                    4316,
                    3747,
                    5050,
                    5100,
                    4531,
                    1470,
                    2307,
                    1745,
                    2115,
                    4750,
                    3836,
                    5062,
                    5080,
                    5306,
                    4240,
                    3757,
                    5679,
                    6055,
                    5398,
                    5035,
                    4659,
                    4429,
                    2787,
                    4841,
                    5219,
                    5009,
                    5107,
                    5182,
                    4280,
                    3248,
                    4373,
                    5124,
                    4934,
                    3814,
                    3402,
                    1544,
                    1379,
                    746,
                    573,
                    432,
                    1867,
                    2451,
                    1182,
                    1432,
                    2290
                  ],
                  "yaxis": "y"
                }
              ],
              "layout": {
                "legend": {
                  "tracegroupgap": 0
                },
                "template": {
                  "data": {
                    "bar": [
                      {
                        "error_x": {
                          "color": "#2a3f5f"
                        },
                        "error_y": {
                          "color": "#2a3f5f"
                        },
                        "marker": {
                          "line": {
                            "color": "#E5ECF6",
                            "width": 0.5
                          },
                          "pattern": {
                            "fillmode": "overlay",
                            "size": 10,
                            "solidity": 0.2
                          }
                        },
                        "type": "bar"
                      }
                    ],
                    "barpolar": [
                      {
                        "marker": {
                          "line": {
                            "color": "#E5ECF6",
                            "width": 0.5
                          },
                          "pattern": {
                            "fillmode": "overlay",
                            "size": 10,
                            "solidity": 0.2
                          }
                        },
                        "type": "barpolar"
                      }
                    ],
                    "carpet": [
                      {
                        "aaxis": {
                          "endlinecolor": "#2a3f5f",
                          "gridcolor": "white",
                          "linecolor": "white",
                          "minorgridcolor": "white",
                          "startlinecolor": "#2a3f5f"
                        },
                        "baxis": {
                          "endlinecolor": "#2a3f5f",
                          "gridcolor": "white",
                          "linecolor": "white",
                          "minorgridcolor": "white",
                          "startlinecolor": "#2a3f5f"
                        },
                        "type": "carpet"
                      }
                    ],
                    "choropleth": [
                      {
                        "colorbar": {
                          "outlinewidth": 0,
                          "ticks": ""
                        },
                        "type": "choropleth"
                      }
                    ],
                    "contour": [
                      {
                        "colorbar": {
                          "outlinewidth": 0,
                          "ticks": ""
                        },
                        "colorscale": [
                          [
                            0,
                            "#0d0887"
                          ],
                          [
                            0.1111111111111111,
                            "#46039f"
                          ],
                          [
                            0.2222222222222222,
                            "#7201a8"
                          ],
                          [
                            0.3333333333333333,
                            "#9c179e"
                          ],
                          [
                            0.4444444444444444,
                            "#bd3786"
                          ],
                          [
                            0.5555555555555556,
                            "#d8576b"
                          ],
                          [
                            0.6666666666666666,
                            "#ed7953"
                          ],
                          [
                            0.7777777777777778,
                            "#fb9f3a"
                          ],
                          [
                            0.8888888888888888,
                            "#fdca26"
                          ],
                          [
                            1,
                            "#f0f921"
                          ]
                        ],
                        "type": "contour"
                      }
                    ],
                    "contourcarpet": [
                      {
                        "colorbar": {
                          "outlinewidth": 0,
                          "ticks": ""
                        },
                        "type": "contourcarpet"
                      }
                    ],
                    "heatmap": [
                      {
                        "colorbar": {
                          "outlinewidth": 0,
                          "ticks": ""
                        },
                        "colorscale": [
                          [
                            0,
                            "#0d0887"
                          ],
                          [
                            0.1111111111111111,
                            "#46039f"
                          ],
                          [
                            0.2222222222222222,
                            "#7201a8"
                          ],
                          [
                            0.3333333333333333,
                            "#9c179e"
                          ],
                          [
                            0.4444444444444444,
                            "#bd3786"
                          ],
                          [
                            0.5555555555555556,
                            "#d8576b"
                          ],
                          [
                            0.6666666666666666,
                            "#ed7953"
                          ],
                          [
                            0.7777777777777778,
                            "#fb9f3a"
                          ],
                          [
                            0.8888888888888888,
                            "#fdca26"
                          ],
                          [
                            1,
                            "#f0f921"
                          ]
                        ],
                        "type": "heatmap"
                      }
                    ],
                    "heatmapgl": [
                      {
                        "colorbar": {
                          "outlinewidth": 0,
                          "ticks": ""
                        },
                        "colorscale": [
                          [
                            0,
                            "#0d0887"
                          ],
                          [
                            0.1111111111111111,
                            "#46039f"
                          ],
                          [
                            0.2222222222222222,
                            "#7201a8"
                          ],
                          [
                            0.3333333333333333,
                            "#9c179e"
                          ],
                          [
                            0.4444444444444444,
                            "#bd3786"
                          ],
                          [
                            0.5555555555555556,
                            "#d8576b"
                          ],
                          [
                            0.6666666666666666,
                            "#ed7953"
                          ],
                          [
                            0.7777777777777778,
                            "#fb9f3a"
                          ],
                          [
                            0.8888888888888888,
                            "#fdca26"
                          ],
                          [
                            1,
                            "#f0f921"
                          ]
                        ],
                        "type": "heatmapgl"
                      }
                    ],
                    "histogram": [
                      {
                        "marker": {
                          "pattern": {
                            "fillmode": "overlay",
                            "size": 10,
                            "solidity": 0.2
                          }
                        },
                        "type": "histogram"
                      }
                    ],
                    "histogram2d": [
                      {
                        "colorbar": {
                          "outlinewidth": 0,
                          "ticks": ""
                        },
                        "colorscale": [
                          [
                            0,
                            "#0d0887"
                          ],
                          [
                            0.1111111111111111,
                            "#46039f"
                          ],
                          [
                            0.2222222222222222,
                            "#7201a8"
                          ],
                          [
                            0.3333333333333333,
                            "#9c179e"
                          ],
                          [
                            0.4444444444444444,
                            "#bd3786"
                          ],
                          [
                            0.5555555555555556,
                            "#d8576b"
                          ],
                          [
                            0.6666666666666666,
                            "#ed7953"
                          ],
                          [
                            0.7777777777777778,
                            "#fb9f3a"
                          ],
                          [
                            0.8888888888888888,
                            "#fdca26"
                          ],
                          [
                            1,
                            "#f0f921"
                          ]
                        ],
                        "type": "histogram2d"
                      }
                    ],
                    "histogram2dcontour": [
                      {
                        "colorbar": {
                          "outlinewidth": 0,
                          "ticks": ""
                        },
                        "colorscale": [
                          [
                            0,
                            "#0d0887"
                          ],
                          [
                            0.1111111111111111,
                            "#46039f"
                          ],
                          [
                            0.2222222222222222,
                            "#7201a8"
                          ],
                          [
                            0.3333333333333333,
                            "#9c179e"
                          ],
                          [
                            0.4444444444444444,
                            "#bd3786"
                          ],
                          [
                            0.5555555555555556,
                            "#d8576b"
                          ],
                          [
                            0.6666666666666666,
                            "#ed7953"
                          ],
                          [
                            0.7777777777777778,
                            "#fb9f3a"
                          ],
                          [
                            0.8888888888888888,
                            "#fdca26"
                          ],
                          [
                            1,
                            "#f0f921"
                          ]
                        ],
                        "type": "histogram2dcontour"
                      }
                    ],
                    "mesh3d": [
                      {
                        "colorbar": {
                          "outlinewidth": 0,
                          "ticks": ""
                        },
                        "type": "mesh3d"
                      }
                    ],
                    "parcoords": [
                      {
                        "line": {
                          "colorbar": {
                            "outlinewidth": 0,
                            "ticks": ""
                          }
                        },
                        "type": "parcoords"
                      }
                    ],
                    "pie": [
                      {
                        "automargin": true,
                        "type": "pie"
                      }
                    ],
                    "scatter": [
                      {
                        "fillpattern": {
                          "fillmode": "overlay",
                          "size": 10,
                          "solidity": 0.2
                        },
                        "type": "scatter"
                      }
                    ],
                    "scatter3d": [
                      {
                        "line": {
                          "colorbar": {
                            "outlinewidth": 0,
                            "ticks": ""
                          }
                        },
                        "marker": {
                          "colorbar": {
                            "outlinewidth": 0,
                            "ticks": ""
                          }
                        },
                        "type": "scatter3d"
                      }
                    ],
                    "scattercarpet": [
                      {
                        "marker": {
                          "colorbar": {
                            "outlinewidth": 0,
                            "ticks": ""
                          }
                        },
                        "type": "scattercarpet"
                      }
                    ],
                    "scattergeo": [
                      {
                        "marker": {
                          "colorbar": {
                            "outlinewidth": 0,
                            "ticks": ""
                          }
                        },
                        "type": "scattergeo"
                      }
                    ],
                    "scattergl": [
                      {
                        "marker": {
                          "colorbar": {
                            "outlinewidth": 0,
                            "ticks": ""
                          }
                        },
                        "type": "scattergl"
                      }
                    ],
                    "scattermapbox": [
                      {
                        "marker": {
                          "colorbar": {
                            "outlinewidth": 0,
                            "ticks": ""
                          }
                        },
                        "type": "scattermapbox"
                      }
                    ],
                    "scatterpolar": [
                      {
                        "marker": {
                          "colorbar": {
                            "outlinewidth": 0,
                            "ticks": ""
                          }
                        },
                        "type": "scatterpolar"
                      }
                    ],
                    "scatterpolargl": [
                      {
                        "marker": {
                          "colorbar": {
                            "outlinewidth": 0,
                            "ticks": ""
                          }
                        },
                        "type": "scatterpolargl"
                      }
                    ],
                    "scatterternary": [
                      {
                        "marker": {
                          "colorbar": {
                            "outlinewidth": 0,
                            "ticks": ""
                          }
                        },
                        "type": "scatterternary"
                      }
                    ],
                    "surface": [
                      {
                        "colorbar": {
                          "outlinewidth": 0,
                          "ticks": ""
                        },
                        "colorscale": [
                          [
                            0,
                            "#0d0887"
                          ],
                          [
                            0.1111111111111111,
                            "#46039f"
                          ],
                          [
                            0.2222222222222222,
                            "#7201a8"
                          ],
                          [
                            0.3333333333333333,
                            "#9c179e"
                          ],
                          [
                            0.4444444444444444,
                            "#bd3786"
                          ],
                          [
                            0.5555555555555556,
                            "#d8576b"
                          ],
                          [
                            0.6666666666666666,
                            "#ed7953"
                          ],
                          [
                            0.7777777777777778,
                            "#fb9f3a"
                          ],
                          [
                            0.8888888888888888,
                            "#fdca26"
                          ],
                          [
                            1,
                            "#f0f921"
                          ]
                        ],
                        "type": "surface"
                      }
                    ],
                    "table": [
                      {
                        "cells": {
                          "fill": {
                            "color": "#EBF0F8"
                          },
                          "line": {
                            "color": "white"
                          }
                        },
                        "header": {
                          "fill": {
                            "color": "#C8D4E3"
                          },
                          "line": {
                            "color": "white"
                          }
                        },
                        "type": "table"
                      }
                    ]
                  },
                  "layout": {
                    "annotationdefaults": {
                      "arrowcolor": "#2a3f5f",
                      "arrowhead": 0,
                      "arrowwidth": 1
                    },
                    "autotypenumbers": "strict",
                    "coloraxis": {
                      "colorbar": {
                        "outlinewidth": 0,
                        "ticks": ""
                      }
                    },
                    "colorscale": {
                      "diverging": [
                        [
                          0,
                          "#8e0152"
                        ],
                        [
                          0.1,
                          "#c51b7d"
                        ],
                        [
                          0.2,
                          "#de77ae"
                        ],
                        [
                          0.3,
                          "#f1b6da"
                        ],
                        [
                          0.4,
                          "#fde0ef"
                        ],
                        [
                          0.5,
                          "#f7f7f7"
                        ],
                        [
                          0.6,
                          "#e6f5d0"
                        ],
                        [
                          0.7,
                          "#b8e186"
                        ],
                        [
                          0.8,
                          "#7fbc41"
                        ],
                        [
                          0.9,
                          "#4d9221"
                        ],
                        [
                          1,
                          "#276419"
                        ]
                      ],
                      "sequential": [
                        [
                          0,
                          "#0d0887"
                        ],
                        [
                          0.1111111111111111,
                          "#46039f"
                        ],
                        [
                          0.2222222222222222,
                          "#7201a8"
                        ],
                        [
                          0.3333333333333333,
                          "#9c179e"
                        ],
                        [
                          0.4444444444444444,
                          "#bd3786"
                        ],
                        [
                          0.5555555555555556,
                          "#d8576b"
                        ],
                        [
                          0.6666666666666666,
                          "#ed7953"
                        ],
                        [
                          0.7777777777777778,
                          "#fb9f3a"
                        ],
                        [
                          0.8888888888888888,
                          "#fdca26"
                        ],
                        [
                          1,
                          "#f0f921"
                        ]
                      ],
                      "sequentialminus": [
                        [
                          0,
                          "#0d0887"
                        ],
                        [
                          0.1111111111111111,
                          "#46039f"
                        ],
                        [
                          0.2222222222222222,
                          "#7201a8"
                        ],
                        [
                          0.3333333333333333,
                          "#9c179e"
                        ],
                        [
                          0.4444444444444444,
                          "#bd3786"
                        ],
                        [
                          0.5555555555555556,
                          "#d8576b"
                        ],
                        [
                          0.6666666666666666,
                          "#ed7953"
                        ],
                        [
                          0.7777777777777778,
                          "#fb9f3a"
                        ],
                        [
                          0.8888888888888888,
                          "#fdca26"
                        ],
                        [
                          1,
                          "#f0f921"
                        ]
                      ]
                    },
                    "colorway": [
                      "#636efa",
                      "#EF553B",
                      "#00cc96",
                      "#ab63fa",
                      "#FFA15A",
                      "#19d3f3",
                      "#FF6692",
                      "#B6E880",
                      "#FF97FF",
                      "#FECB52"
                    ],
                    "font": {
                      "color": "#2a3f5f"
                    },
                    "geo": {
                      "bgcolor": "white",
                      "lakecolor": "white",
                      "landcolor": "#E5ECF6",
                      "showlakes": true,
                      "showland": true,
                      "subunitcolor": "white"
                    },
                    "hoverlabel": {
                      "align": "left"
                    },
                    "hovermode": "closest",
                    "mapbox": {
                      "style": "light"
                    },
                    "paper_bgcolor": "white",
                    "plot_bgcolor": "#E5ECF6",
                    "polar": {
                      "angularaxis": {
                        "gridcolor": "white",
                        "linecolor": "white",
                        "ticks": ""
                      },
                      "bgcolor": "#E5ECF6",
                      "radialaxis": {
                        "gridcolor": "white",
                        "linecolor": "white",
                        "ticks": ""
                      }
                    },
                    "scene": {
                      "xaxis": {
                        "backgroundcolor": "#E5ECF6",
                        "gridcolor": "white",
                        "gridwidth": 2,
                        "linecolor": "white",
                        "showbackground": true,
                        "ticks": "",
                        "zerolinecolor": "white"
                      },
                      "yaxis": {
                        "backgroundcolor": "#E5ECF6",
                        "gridcolor": "white",
                        "gridwidth": 2,
                        "linecolor": "white",
                        "showbackground": true,
                        "ticks": "",
                        "zerolinecolor": "white"
                      },
                      "zaxis": {
                        "backgroundcolor": "#E5ECF6",
                        "gridcolor": "white",
                        "gridwidth": 2,
                        "linecolor": "white",
                        "showbackground": true,
                        "ticks": "",
                        "zerolinecolor": "white"
                      }
                    },
                    "shapedefaults": {
                      "line": {
                        "color": "#2a3f5f"
                      }
                    },
                    "ternary": {
                      "aaxis": {
                        "gridcolor": "white",
                        "linecolor": "white",
                        "ticks": ""
                      },
                      "baxis": {
                        "gridcolor": "white",
                        "linecolor": "white",
                        "ticks": ""
                      },
                      "bgcolor": "#E5ECF6",
                      "caxis": {
                        "gridcolor": "white",
                        "linecolor": "white",
                        "ticks": ""
                      }
                    },
                    "title": {
                      "x": 0.05
                    },
                    "xaxis": {
                      "automargin": true,
                      "gridcolor": "white",
                      "linecolor": "white",
                      "ticks": "",
                      "title": {
                        "standoff": 15
                      },
                      "zerolinecolor": "white",
                      "zerolinewidth": 2
                    },
                    "yaxis": {
                      "automargin": true,
                      "gridcolor": "white",
                      "linecolor": "white",
                      "ticks": "",
                      "title": {
                        "standoff": 15
                      },
                      "zerolinecolor": "white",
                      "zerolinewidth": 2
                    }
                  }
                },
                "title": {
                  "text": "Hubungan Cuaca dengan Jumlah Pengguna Terdaftar"
                },
                "xaxis": {
                  "anchor": "y",
                  "domain": [
                    0,
                    1
                  ],
                  "title": {
                    "text": "Cuaca"
                  }
                },
                "yaxis": {
                  "anchor": "x",
                  "domain": [
                    0,
                    1
                  ],
                  "title": {
                    "text": "Jumlah Pengguna Terdaftar"
                  }
                }
              }
            }
          },
          "metadata": {},
          "output_type": "display_data"
        }
      ],
      "source": [
        "# Buat scatter plot dengan Plotly untuk memvisualisasikan hubungan suhu (temp) dengan jumlah pengguna terdaftar (registered)\n",
        "fig = plotex.scatter(dfDay, x=\"weathersit\", y=\"registered\", title=\"Hubungan Cuaca dengan Jumlah Pengguna Terdaftar\")\n",
        "fig.update_xaxes(title=\"Cuaca\")\n",
        "fig.update_yaxes(title=\"Jumlah Pengguna Terdaftar\")\n",
        "fig.show()"
      ]
    },
    {
      "cell_type": "markdown",
      "metadata": {},
      "source": [
        "### Pertanyaan 5: <p>Bagaimana strategi untuk meningkatkan sewa sepeda dengan user beralih dari user casual menjadi user registered untuk hari libur?\n"
      ]
    },
    {
      "cell_type": "code",
      "execution_count": 19,
      "metadata": {},
      "outputs": [
        {
          "data": {
            "application/vnd.plotly.v1+json": {
              "config": {
                "plotlyServerURL": "https://plot.ly"
              },
              "data": [
                {
                  "alignmentgroup": "True",
                  "hovertemplate": "weekday=%{x}<br>registered=%{y}<extra></extra>",
                  "legendgroup": "",
                  "marker": {
                    "color": "#636efa",
                    "pattern": {
                      "shape": ""
                    }
                  },
                  "name": "",
                  "offsetgroup": "",
                  "orientation": "v",
                  "showlegend": false,
                  "textposition": "auto",
                  "type": "bar",
                  "x": [
                    6,
                    0,
                    6,
                    0,
                    6,
                    0,
                    1,
                    6,
                    0,
                    6,
                    0,
                    6,
                    0,
                    6,
                    0,
                    6,
                    0,
                    1,
                    6,
                    0,
                    6,
                    0,
                    6,
                    0,
                    6,
                    0,
                    6,
                    0,
                    6,
                    0,
                    6,
                    0,
                    5,
                    6,
                    0,
                    6,
                    0,
                    6,
                    0,
                    6,
                    0,
                    6,
                    0,
                    6,
                    0,
                    6,
                    0,
                    1,
                    6,
                    0,
                    6,
                    0,
                    6,
                    0,
                    6,
                    0,
                    6,
                    0,
                    1,
                    6,
                    0,
                    6,
                    0,
                    6,
                    0,
                    6,
                    0,
                    6,
                    0,
                    6,
                    0,
                    6,
                    0,
                    6,
                    0,
                    6,
                    0,
                    1,
                    6,
                    0,
                    6,
                    0,
                    6,
                    0,
                    6,
                    0,
                    6,
                    0,
                    1,
                    6,
                    0,
                    6,
                    0,
                    6,
                    0,
                    6,
                    0,
                    5,
                    6,
                    0,
                    6,
                    0,
                    4,
                    6,
                    0,
                    6,
                    0,
                    6,
                    0,
                    6,
                    0,
                    6,
                    0,
                    1,
                    6,
                    0,
                    1,
                    6,
                    0,
                    6,
                    0,
                    1,
                    6,
                    0,
                    6,
                    0,
                    6,
                    0,
                    6,
                    0,
                    6,
                    0,
                    1,
                    6,
                    0,
                    6,
                    0,
                    6,
                    0,
                    6,
                    0,
                    6,
                    0,
                    6,
                    0,
                    6,
                    0,
                    6,
                    0,
                    1,
                    6,
                    0,
                    6,
                    0,
                    6,
                    0,
                    6,
                    0,
                    6,
                    0,
                    6,
                    0,
                    1,
                    6,
                    0,
                    6,
                    0,
                    6,
                    0,
                    6,
                    0,
                    6,
                    0,
                    3,
                    6,
                    0,
                    6,
                    0,
                    6,
                    0,
                    6,
                    0,
                    6,
                    0,
                    6,
                    0,
                    6,
                    0,
                    6,
                    0,
                    6,
                    0,
                    1,
                    6,
                    0,
                    6,
                    0,
                    6,
                    0,
                    6,
                    0,
                    6,
                    0,
                    1,
                    6,
                    0,
                    6,
                    0,
                    6,
                    0,
                    6,
                    0,
                    6,
                    0,
                    1,
                    6,
                    0,
                    4,
                    6,
                    0,
                    6,
                    0,
                    6,
                    0,
                    6,
                    0,
                    6,
                    0,
                    2,
                    6,
                    0
                  ],
                  "xaxis": "x",
                  "y": [
                    654,
                    670,
                    891,
                    768,
                    1026,
                    953,
                    883,
                    888,
                    836,
                    975,
                    956,
                    905,
                    1269,
                    1184,
                    1192,
                    1103,
                    1173,
                    912,
                    1545,
                    1708,
                    1437,
                    491,
                    1408,
                    1435,
                    1693,
                    1424,
                    1515,
                    1221,
                    1354,
                    1598,
                    1576,
                    1707,
                    2484,
                    674,
                    2186,
                    2574,
                    2481,
                    3347,
                    2213,
                    3102,
                    2932,
                    2507,
                    2971,
                    3547,
                    3084,
                    2757,
                    2433,
                    2549,
                    3473,
                    3221,
                    3237,
                    2993,
                    3312,
                    3105,
                    3420,
                    3385,
                    2915,
                    2367,
                    2978,
                    3348,
                    3138,
                    3505,
                    3296,
                    2298,
                    2556,
                    2916,
                    2778,
                    2773,
                    2487,
                    2646,
                    2482,
                    3277,
                    2624,
                    889,
                    2919,
                    2549,
                    2419,
                    2115,
                    3595,
                    3413,
                    3077,
                    2921,
                    3647,
                    3466,
                    1949,
                    2302,
                    3174,
                    3114,
                    3603,
                    3318,
                    3293,
                    2809,
                    2762,
                    570,
                    2446,
                    2770,
                    2697,
                    2928,
                    2792,
                    2713,
                    2720,
                    2733,
                    935,
                    1819,
                    2261,
                    2908,
                    2851,
                    2688,
                    2366,
                    2464,
                    2211,
                    856,
                    451,
                    887,
                    1820,
                    1608,
                    1707,
                    3451,
                    2826,
                    2160,
                    2027,
                    2081,
                    1234,
                    1781,
                    3248,
                    2685,
                    2448,
                    2629,
                    1977,
                    1456,
                    2883,
                    2071,
                    2627,
                    2415,
                    2874,
                    3110,
                    2713,
                    3150,
                    3253,
                    4681,
                    3685,
                    2339,
                    3464,
                    3934,
                    3694,
                    3605,
                    2939,
                    4665,
                    4286,
                    5172,
                    4083,
                    907,
                    3100,
                    4075,
                    4387,
                    4224,
                    4807,
                    3946,
                    4884,
                    4425,
                    3681,
                    3308,
                    3486,
                    5325,
                    5147,
                    4790,
                    4374,
                    4739,
                    4344,
                    4801,
                    4340,
                    4232,
                    4110,
                    4841,
                    3392,
                    3469,
                    4614,
                    4111,
                    3195,
                    4866,
                    4451,
                    4444,
                    4479,
                    3757,
                    4052,
                    4362,
                    5038,
                    3341,
                    4224,
                    3772,
                    3788,
                    3197,
                    4069,
                    4419,
                    5657,
                    5554,
                    5167,
                    5883,
                    5453,
                    5966,
                    4874,
                    4934,
                    2729,
                    4604,
                    4857,
                    4559,
                    5284,
                    4692,
                    5209,
                    3461,
                    4109,
                    3906,
                    4446,
                    4562,
                    5172,
                    4316,
                    3747,
                    1470,
                    1745,
                    2115,
                    4240,
                    3757,
                    4429,
                    2787,
                    4280,
                    3248,
                    1544,
                    1379,
                    573,
                    1182,
                    1432
                  ],
                  "yaxis": "y"
                }
              ],
              "layout": {
                "barmode": "relative",
                "legend": {
                  "tracegroupgap": 0
                },
                "template": {
                  "data": {
                    "bar": [
                      {
                        "error_x": {
                          "color": "#2a3f5f"
                        },
                        "error_y": {
                          "color": "#2a3f5f"
                        },
                        "marker": {
                          "line": {
                            "color": "#E5ECF6",
                            "width": 0.5
                          },
                          "pattern": {
                            "fillmode": "overlay",
                            "size": 10,
                            "solidity": 0.2
                          }
                        },
                        "type": "bar"
                      }
                    ],
                    "barpolar": [
                      {
                        "marker": {
                          "line": {
                            "color": "#E5ECF6",
                            "width": 0.5
                          },
                          "pattern": {
                            "fillmode": "overlay",
                            "size": 10,
                            "solidity": 0.2
                          }
                        },
                        "type": "barpolar"
                      }
                    ],
                    "carpet": [
                      {
                        "aaxis": {
                          "endlinecolor": "#2a3f5f",
                          "gridcolor": "white",
                          "linecolor": "white",
                          "minorgridcolor": "white",
                          "startlinecolor": "#2a3f5f"
                        },
                        "baxis": {
                          "endlinecolor": "#2a3f5f",
                          "gridcolor": "white",
                          "linecolor": "white",
                          "minorgridcolor": "white",
                          "startlinecolor": "#2a3f5f"
                        },
                        "type": "carpet"
                      }
                    ],
                    "choropleth": [
                      {
                        "colorbar": {
                          "outlinewidth": 0,
                          "ticks": ""
                        },
                        "type": "choropleth"
                      }
                    ],
                    "contour": [
                      {
                        "colorbar": {
                          "outlinewidth": 0,
                          "ticks": ""
                        },
                        "colorscale": [
                          [
                            0,
                            "#0d0887"
                          ],
                          [
                            0.1111111111111111,
                            "#46039f"
                          ],
                          [
                            0.2222222222222222,
                            "#7201a8"
                          ],
                          [
                            0.3333333333333333,
                            "#9c179e"
                          ],
                          [
                            0.4444444444444444,
                            "#bd3786"
                          ],
                          [
                            0.5555555555555556,
                            "#d8576b"
                          ],
                          [
                            0.6666666666666666,
                            "#ed7953"
                          ],
                          [
                            0.7777777777777778,
                            "#fb9f3a"
                          ],
                          [
                            0.8888888888888888,
                            "#fdca26"
                          ],
                          [
                            1,
                            "#f0f921"
                          ]
                        ],
                        "type": "contour"
                      }
                    ],
                    "contourcarpet": [
                      {
                        "colorbar": {
                          "outlinewidth": 0,
                          "ticks": ""
                        },
                        "type": "contourcarpet"
                      }
                    ],
                    "heatmap": [
                      {
                        "colorbar": {
                          "outlinewidth": 0,
                          "ticks": ""
                        },
                        "colorscale": [
                          [
                            0,
                            "#0d0887"
                          ],
                          [
                            0.1111111111111111,
                            "#46039f"
                          ],
                          [
                            0.2222222222222222,
                            "#7201a8"
                          ],
                          [
                            0.3333333333333333,
                            "#9c179e"
                          ],
                          [
                            0.4444444444444444,
                            "#bd3786"
                          ],
                          [
                            0.5555555555555556,
                            "#d8576b"
                          ],
                          [
                            0.6666666666666666,
                            "#ed7953"
                          ],
                          [
                            0.7777777777777778,
                            "#fb9f3a"
                          ],
                          [
                            0.8888888888888888,
                            "#fdca26"
                          ],
                          [
                            1,
                            "#f0f921"
                          ]
                        ],
                        "type": "heatmap"
                      }
                    ],
                    "heatmapgl": [
                      {
                        "colorbar": {
                          "outlinewidth": 0,
                          "ticks": ""
                        },
                        "colorscale": [
                          [
                            0,
                            "#0d0887"
                          ],
                          [
                            0.1111111111111111,
                            "#46039f"
                          ],
                          [
                            0.2222222222222222,
                            "#7201a8"
                          ],
                          [
                            0.3333333333333333,
                            "#9c179e"
                          ],
                          [
                            0.4444444444444444,
                            "#bd3786"
                          ],
                          [
                            0.5555555555555556,
                            "#d8576b"
                          ],
                          [
                            0.6666666666666666,
                            "#ed7953"
                          ],
                          [
                            0.7777777777777778,
                            "#fb9f3a"
                          ],
                          [
                            0.8888888888888888,
                            "#fdca26"
                          ],
                          [
                            1,
                            "#f0f921"
                          ]
                        ],
                        "type": "heatmapgl"
                      }
                    ],
                    "histogram": [
                      {
                        "marker": {
                          "pattern": {
                            "fillmode": "overlay",
                            "size": 10,
                            "solidity": 0.2
                          }
                        },
                        "type": "histogram"
                      }
                    ],
                    "histogram2d": [
                      {
                        "colorbar": {
                          "outlinewidth": 0,
                          "ticks": ""
                        },
                        "colorscale": [
                          [
                            0,
                            "#0d0887"
                          ],
                          [
                            0.1111111111111111,
                            "#46039f"
                          ],
                          [
                            0.2222222222222222,
                            "#7201a8"
                          ],
                          [
                            0.3333333333333333,
                            "#9c179e"
                          ],
                          [
                            0.4444444444444444,
                            "#bd3786"
                          ],
                          [
                            0.5555555555555556,
                            "#d8576b"
                          ],
                          [
                            0.6666666666666666,
                            "#ed7953"
                          ],
                          [
                            0.7777777777777778,
                            "#fb9f3a"
                          ],
                          [
                            0.8888888888888888,
                            "#fdca26"
                          ],
                          [
                            1,
                            "#f0f921"
                          ]
                        ],
                        "type": "histogram2d"
                      }
                    ],
                    "histogram2dcontour": [
                      {
                        "colorbar": {
                          "outlinewidth": 0,
                          "ticks": ""
                        },
                        "colorscale": [
                          [
                            0,
                            "#0d0887"
                          ],
                          [
                            0.1111111111111111,
                            "#46039f"
                          ],
                          [
                            0.2222222222222222,
                            "#7201a8"
                          ],
                          [
                            0.3333333333333333,
                            "#9c179e"
                          ],
                          [
                            0.4444444444444444,
                            "#bd3786"
                          ],
                          [
                            0.5555555555555556,
                            "#d8576b"
                          ],
                          [
                            0.6666666666666666,
                            "#ed7953"
                          ],
                          [
                            0.7777777777777778,
                            "#fb9f3a"
                          ],
                          [
                            0.8888888888888888,
                            "#fdca26"
                          ],
                          [
                            1,
                            "#f0f921"
                          ]
                        ],
                        "type": "histogram2dcontour"
                      }
                    ],
                    "mesh3d": [
                      {
                        "colorbar": {
                          "outlinewidth": 0,
                          "ticks": ""
                        },
                        "type": "mesh3d"
                      }
                    ],
                    "parcoords": [
                      {
                        "line": {
                          "colorbar": {
                            "outlinewidth": 0,
                            "ticks": ""
                          }
                        },
                        "type": "parcoords"
                      }
                    ],
                    "pie": [
                      {
                        "automargin": true,
                        "type": "pie"
                      }
                    ],
                    "scatter": [
                      {
                        "fillpattern": {
                          "fillmode": "overlay",
                          "size": 10,
                          "solidity": 0.2
                        },
                        "type": "scatter"
                      }
                    ],
                    "scatter3d": [
                      {
                        "line": {
                          "colorbar": {
                            "outlinewidth": 0,
                            "ticks": ""
                          }
                        },
                        "marker": {
                          "colorbar": {
                            "outlinewidth": 0,
                            "ticks": ""
                          }
                        },
                        "type": "scatter3d"
                      }
                    ],
                    "scattercarpet": [
                      {
                        "marker": {
                          "colorbar": {
                            "outlinewidth": 0,
                            "ticks": ""
                          }
                        },
                        "type": "scattercarpet"
                      }
                    ],
                    "scattergeo": [
                      {
                        "marker": {
                          "colorbar": {
                            "outlinewidth": 0,
                            "ticks": ""
                          }
                        },
                        "type": "scattergeo"
                      }
                    ],
                    "scattergl": [
                      {
                        "marker": {
                          "colorbar": {
                            "outlinewidth": 0,
                            "ticks": ""
                          }
                        },
                        "type": "scattergl"
                      }
                    ],
                    "scattermapbox": [
                      {
                        "marker": {
                          "colorbar": {
                            "outlinewidth": 0,
                            "ticks": ""
                          }
                        },
                        "type": "scattermapbox"
                      }
                    ],
                    "scatterpolar": [
                      {
                        "marker": {
                          "colorbar": {
                            "outlinewidth": 0,
                            "ticks": ""
                          }
                        },
                        "type": "scatterpolar"
                      }
                    ],
                    "scatterpolargl": [
                      {
                        "marker": {
                          "colorbar": {
                            "outlinewidth": 0,
                            "ticks": ""
                          }
                        },
                        "type": "scatterpolargl"
                      }
                    ],
                    "scatterternary": [
                      {
                        "marker": {
                          "colorbar": {
                            "outlinewidth": 0,
                            "ticks": ""
                          }
                        },
                        "type": "scatterternary"
                      }
                    ],
                    "surface": [
                      {
                        "colorbar": {
                          "outlinewidth": 0,
                          "ticks": ""
                        },
                        "colorscale": [
                          [
                            0,
                            "#0d0887"
                          ],
                          [
                            0.1111111111111111,
                            "#46039f"
                          ],
                          [
                            0.2222222222222222,
                            "#7201a8"
                          ],
                          [
                            0.3333333333333333,
                            "#9c179e"
                          ],
                          [
                            0.4444444444444444,
                            "#bd3786"
                          ],
                          [
                            0.5555555555555556,
                            "#d8576b"
                          ],
                          [
                            0.6666666666666666,
                            "#ed7953"
                          ],
                          [
                            0.7777777777777778,
                            "#fb9f3a"
                          ],
                          [
                            0.8888888888888888,
                            "#fdca26"
                          ],
                          [
                            1,
                            "#f0f921"
                          ]
                        ],
                        "type": "surface"
                      }
                    ],
                    "table": [
                      {
                        "cells": {
                          "fill": {
                            "color": "#EBF0F8"
                          },
                          "line": {
                            "color": "white"
                          }
                        },
                        "header": {
                          "fill": {
                            "color": "#C8D4E3"
                          },
                          "line": {
                            "color": "white"
                          }
                        },
                        "type": "table"
                      }
                    ]
                  },
                  "layout": {
                    "annotationdefaults": {
                      "arrowcolor": "#2a3f5f",
                      "arrowhead": 0,
                      "arrowwidth": 1
                    },
                    "autotypenumbers": "strict",
                    "coloraxis": {
                      "colorbar": {
                        "outlinewidth": 0,
                        "ticks": ""
                      }
                    },
                    "colorscale": {
                      "diverging": [
                        [
                          0,
                          "#8e0152"
                        ],
                        [
                          0.1,
                          "#c51b7d"
                        ],
                        [
                          0.2,
                          "#de77ae"
                        ],
                        [
                          0.3,
                          "#f1b6da"
                        ],
                        [
                          0.4,
                          "#fde0ef"
                        ],
                        [
                          0.5,
                          "#f7f7f7"
                        ],
                        [
                          0.6,
                          "#e6f5d0"
                        ],
                        [
                          0.7,
                          "#b8e186"
                        ],
                        [
                          0.8,
                          "#7fbc41"
                        ],
                        [
                          0.9,
                          "#4d9221"
                        ],
                        [
                          1,
                          "#276419"
                        ]
                      ],
                      "sequential": [
                        [
                          0,
                          "#0d0887"
                        ],
                        [
                          0.1111111111111111,
                          "#46039f"
                        ],
                        [
                          0.2222222222222222,
                          "#7201a8"
                        ],
                        [
                          0.3333333333333333,
                          "#9c179e"
                        ],
                        [
                          0.4444444444444444,
                          "#bd3786"
                        ],
                        [
                          0.5555555555555556,
                          "#d8576b"
                        ],
                        [
                          0.6666666666666666,
                          "#ed7953"
                        ],
                        [
                          0.7777777777777778,
                          "#fb9f3a"
                        ],
                        [
                          0.8888888888888888,
                          "#fdca26"
                        ],
                        [
                          1,
                          "#f0f921"
                        ]
                      ],
                      "sequentialminus": [
                        [
                          0,
                          "#0d0887"
                        ],
                        [
                          0.1111111111111111,
                          "#46039f"
                        ],
                        [
                          0.2222222222222222,
                          "#7201a8"
                        ],
                        [
                          0.3333333333333333,
                          "#9c179e"
                        ],
                        [
                          0.4444444444444444,
                          "#bd3786"
                        ],
                        [
                          0.5555555555555556,
                          "#d8576b"
                        ],
                        [
                          0.6666666666666666,
                          "#ed7953"
                        ],
                        [
                          0.7777777777777778,
                          "#fb9f3a"
                        ],
                        [
                          0.8888888888888888,
                          "#fdca26"
                        ],
                        [
                          1,
                          "#f0f921"
                        ]
                      ]
                    },
                    "colorway": [
                      "#636efa",
                      "#EF553B",
                      "#00cc96",
                      "#ab63fa",
                      "#FFA15A",
                      "#19d3f3",
                      "#FF6692",
                      "#B6E880",
                      "#FF97FF",
                      "#FECB52"
                    ],
                    "font": {
                      "color": "#2a3f5f"
                    },
                    "geo": {
                      "bgcolor": "white",
                      "lakecolor": "white",
                      "landcolor": "#E5ECF6",
                      "showlakes": true,
                      "showland": true,
                      "subunitcolor": "white"
                    },
                    "hoverlabel": {
                      "align": "left"
                    },
                    "hovermode": "closest",
                    "mapbox": {
                      "style": "light"
                    },
                    "paper_bgcolor": "white",
                    "plot_bgcolor": "#E5ECF6",
                    "polar": {
                      "angularaxis": {
                        "gridcolor": "white",
                        "linecolor": "white",
                        "ticks": ""
                      },
                      "bgcolor": "#E5ECF6",
                      "radialaxis": {
                        "gridcolor": "white",
                        "linecolor": "white",
                        "ticks": ""
                      }
                    },
                    "scene": {
                      "xaxis": {
                        "backgroundcolor": "#E5ECF6",
                        "gridcolor": "white",
                        "gridwidth": 2,
                        "linecolor": "white",
                        "showbackground": true,
                        "ticks": "",
                        "zerolinecolor": "white"
                      },
                      "yaxis": {
                        "backgroundcolor": "#E5ECF6",
                        "gridcolor": "white",
                        "gridwidth": 2,
                        "linecolor": "white",
                        "showbackground": true,
                        "ticks": "",
                        "zerolinecolor": "white"
                      },
                      "zaxis": {
                        "backgroundcolor": "#E5ECF6",
                        "gridcolor": "white",
                        "gridwidth": 2,
                        "linecolor": "white",
                        "showbackground": true,
                        "ticks": "",
                        "zerolinecolor": "white"
                      }
                    },
                    "shapedefaults": {
                      "line": {
                        "color": "#2a3f5f"
                      }
                    },
                    "ternary": {
                      "aaxis": {
                        "gridcolor": "white",
                        "linecolor": "white",
                        "ticks": ""
                      },
                      "baxis": {
                        "gridcolor": "white",
                        "linecolor": "white",
                        "ticks": ""
                      },
                      "bgcolor": "#E5ECF6",
                      "caxis": {
                        "gridcolor": "white",
                        "linecolor": "white",
                        "ticks": ""
                      }
                    },
                    "title": {
                      "x": 0.05
                    },
                    "xaxis": {
                      "automargin": true,
                      "gridcolor": "white",
                      "linecolor": "white",
                      "ticks": "",
                      "title": {
                        "standoff": 15
                      },
                      "zerolinecolor": "white",
                      "zerolinewidth": 2
                    },
                    "yaxis": {
                      "automargin": true,
                      "gridcolor": "white",
                      "linecolor": "white",
                      "ticks": "",
                      "title": {
                        "standoff": 15
                      },
                      "zerolinecolor": "white",
                      "zerolinewidth": 2
                    }
                  }
                },
                "title": {
                  "text": "Jumlah Sewa Sepeda Registered pada weekday namun libur"
                },
                "xaxis": {
                  "anchor": "y",
                  "domain": [
                    0,
                    1
                  ],
                  "title": {
                    "text": "Hari Kerja namun pada tanggal libur"
                  }
                },
                "yaxis": {
                  "anchor": "x",
                  "domain": [
                    0,
                    1
                  ],
                  "title": {
                    "text": "Jumlah Sewa Sepeda Registered"
                  }
                }
              }
            }
          },
          "metadata": {},
          "output_type": "display_data"
        }
      ],
      "source": [
        "# Filter pengguna casual (casual) pada hari kerja (workingday = 1)\n",
        "filtered_data = dfDay[(dfDay[\"workingday\"] == 0) & (dfDay[\"registered\"] > 0)]\n",
        "\n",
        "# Visualisasikan jumlah sewa sepeda casual pada hari kerja\n",
        "fig = plotex.bar(filtered_data, x=\"weekday\", y=\"registered\", title=\"Jumlah Sewa Sepeda Registered pada weekday namun libur\")\n",
        "fig.update_xaxes(title=\"Hari Kerja namun pada tanggal libur\")\n",
        "fig.update_yaxes(title=\"Jumlah Sewa Sepeda Registered\")\n",
        "fig.show()"
      ]
    },
    {
      "cell_type": "markdown",
      "metadata": {
        "id": "_WeHlCeX8DC2"
      },
      "source": [
        "## Conclusion"
      ]
    },
    {
      "cell_type": "markdown",
      "metadata": {
        "id": "ZTcyR48Y8DC2"
      },
      "source": [
        "1. Conclution pertanyaan 1\n",
        "    -  Jumlah total sepeda yang disewa pada tahun 2011 pada musim dingin pada angka 326137 dari hal tersebut terlihat mengalami penurunan penyewaan sepeda bahkan dari musim panas dari pertanyaan kedua\n",
        "2. Conclution pertanyaan 2\n",
        "    - Banyak sepeda yang disewa yang digunakan pada hari kerja selama musim panas pada tahun 2012 adalah 558860 user kasual maupun registered menikmati menggunakan sepeda di musim panas dan tidak dimusim dingin.\n",
        "3. Conclution pertanyaan 3\n",
        "    - Banyak sepeda yang dipinjam pada cuaca Light Rain + Scattered clouds adalah 37869, maka diperlukan solusi agar dapat meningkatkan tren sewa sepeda pada cuaca kategori ini.\n",
        "4. Conclution pertanyaan 4\n",
        "    - Pengaruh cuaca weathersit dengan jumlah pengguna yang terdaftar dilihat dari plot tersebut cuaca 1 hingga 2 pengguna sepeda signifikan, namun di weather 3 persebarannya sangat jaran mengindikasikan cuaca berpengaruh dalam kenyamanan, keberhasilan tempuh suatu pengguna. \n",
        "5. Conclution pertanyaan 5\n",
        "    - Untuk meningkatkan jumlah sewa sepeda dengan mengubah pengguna dari pelanggan kasual menjadi pelanggan terdaftar, dapat diterapkan strategi berbasis cuaca dan musim serta hari libur dari bar tersebut terlihat kenaikan di awal minggu dan diakhir weekday. Penurunan sewa sepeda terjadi saat musim dingin dan cuaca hujan ringan hingga sedang. Oleh karena itu, perusahaan dapat memberikan insentif berupa bonus langganan, seperti mantel hujan atau tas, kepada pelanggan yang berlangganan. Selain itu, pelanggan yang mencapai target tertentu dalam waktu tertentu dapat diberikan insentif berupa sarung tangan atau privilage lainnya, sehingga mendorong mereka untuk tetap berlangganan hingga satu tahun penuh, maka penyewaan sepeda bukan hanya sebagai alat untuk transportasi tapi juga kegiatan/aktivitas/hiburan di hari libur karena privilage lain yang diberikan dapat menunjang hal tersebut.\n"
      ]
    }
  ],
  "metadata": {
    "colab": {
      "provenance": []
    },
    "kernelspec": {
      "display_name": "Python 3",
      "language": "python",
      "name": "python3"
    },
    "language_info": {
      "codemirror_mode": {
        "name": "ipython",
        "version": 3
      },
      "file_extension": ".py",
      "mimetype": "text/x-python",
      "name": "python",
      "nbconvert_exporter": "python",
      "pygments_lexer": "ipython3",
      "version": "3.10.10"
    },
    "orig_nbformat": 4,
    "vscode": {
      "interpreter": {
        "hash": "972b3bf27e332e87b5379f2791f6ef9dfc79c71018c370b0d7423235e20fe4d7"
      }
    }
  },
  "nbformat": 4,
  "nbformat_minor": 0
}
